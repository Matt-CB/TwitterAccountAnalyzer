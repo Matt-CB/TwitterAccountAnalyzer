{
 "cells": [
  {
   "cell_type": "code",
   "execution_count": 10,
   "metadata": {
    "collapsed": true
   },
   "outputs": [],
   "source": [
    "from collections import Counter\n",
    "\n",
    "import nltk\n",
    "from nltk.corpus import stopwords\n",
    "from nltk.tokenize import word_tokenize\n",
    "from nltk import pos_tag\n",
    "import pandas as pd"
   ]
  },
  {
   "cell_type": "code",
   "execution_count": 11,
   "outputs": [
    {
     "name": "stderr",
     "output_type": "stream",
     "text": [
      "[nltk_data] Error loading averaged_perception_tagger: Package\n",
      "[nltk_data]     'averaged_perception_tagger' not found in index\n"
     ]
    },
    {
     "data": {
      "text/plain": "False"
     },
     "execution_count": 11,
     "metadata": {},
     "output_type": "execute_result"
    }
   ],
   "source": [
    "nltk.download('averaged_perception_tagger')"
   ],
   "metadata": {
    "collapsed": false
   }
  },
  {
   "cell_type": "code",
   "execution_count": 12,
   "outputs": [],
   "source": [
    "def identificar_tema_principal(dataframe, idioma):\n",
    "    # Obtener todos los tweets en una lista\n",
    "    tweets = dataframe['tweet'].tolist()\n",
    "\n",
    "    # Seleccionar stopwords según el idioma\n",
    "    if idioma == \"alemán\":\n",
    "        stop_words = set(stopwords.words('german'))\n",
    "    elif idioma == \"español\":\n",
    "        stop_words = set(stopwords.words('spanish'))\n",
    "    elif idioma == \"francés\":\n",
    "        stop_words = set(stopwords.words('french'))\n",
    "    elif idioma == \"inglés\":\n",
    "        stop_words = set(stopwords.words('english'))\n",
    "    elif idioma == \"italiano\":\n",
    "        stop_words = set(stopwords.words('italian'))\n",
    "    else:\n",
    "        raise ValueError(\"Idioma no soportado\")\n",
    "\n",
    "    # Tokenización de palabras y eliminación de stopwords\n",
    "    palabras = [word for tweet in tweets for word in word_tokenize(tweet.lower()) if word.isalpha() and word not in stop_words]\n",
    "\n",
    "    # Etiquetado de partes del discurso\n",
    "    tagged_words = pos_tag(palabras)\n",
    "\n",
    "    # Contar la frecuencia de cada palabra\n",
    "    frecuencia_palabras = Counter(tagged_words)\n",
    "\n",
    "    # Ordenar las palabras por frecuencia\n",
    "    palabras_ordenadas = sorted(frecuencia_palabras.items(), key=lambda x: x[1], reverse=True)\n",
    "\n",
    "    # Obtener el tema principal como la palabra más frecuente con etiqueta de sustantivo\n",
    "    tema_principal = None\n",
    "    for palabra, frecuencia in palabras_ordenadas:\n",
    "        if 'NN' in palabra[1]:  # Verificar si la palabra tiene etiqueta de sustantivo\n",
    "            tema_principal = palabra[0]\n",
    "            break\n",
    "\n",
    "    return tema_principal"
   ],
   "metadata": {
    "collapsed": false
   }
  },
  {
   "cell_type": "code",
   "execution_count": 22,
   "outputs": [],
   "source": [
    "dfar = pd.read_csv('tweets/AlfaRomeo_tweets.csv') # frances\n",
    "dfa = pd.read_csv('tweets/Andrei_tweets.csv') # frances\n",
    "dfc = pd.read_csv('tweets/carlos_hernandez_tweets.csv')\n",
    "dfch = pd.read_csv('tweets/Charlie_tweets.csv')\n",
    "dfd = pd.read_csv('tweets/Diego_tweets.csv')\n",
    "dfm = pd.read_csv('tweets/Mati_tweets.csv') # inglés\n",
    "dfr = pd.read_csv('tweets/Ramoncito_tweets.csv')\n"
   ],
   "metadata": {
    "collapsed": false
   }
  },
  {
   "cell_type": "code",
   "execution_count": null,
   "outputs": [],
   "source": [],
   "metadata": {
    "collapsed": false
   }
  },
  {
   "cell_type": "code",
   "execution_count": 27,
   "outputs": [
    {
     "data": {
      "text/plain": "'cinema'"
     },
     "execution_count": 27,
     "metadata": {},
     "output_type": "execute_result"
    }
   ],
   "source": [
    "identificar_tema_principal(dfdg, 'italiano')"
   ],
   "metadata": {
    "collapsed": false
   }
  },
  {
   "cell_type": "code",
   "execution_count": 26,
   "outputs": [],
   "source": [
    "dfdg = pd.read_csv('tweets/daniela_tweets.csv') #italiano"
   ],
   "metadata": {
    "collapsed": false
   }
  }
 ],
 "metadata": {
  "kernelspec": {
   "display_name": "Python 3",
   "language": "python",
   "name": "python3"
  },
  "language_info": {
   "codemirror_mode": {
    "name": "ipython",
    "version": 2
   },
   "file_extension": ".py",
   "mimetype": "text/x-python",
   "name": "python",
   "nbconvert_exporter": "python",
   "pygments_lexer": "ipython2",
   "version": "2.7.6"
  }
 },
 "nbformat": 4,
 "nbformat_minor": 0
}
