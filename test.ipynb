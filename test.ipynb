{
 "cells": [
  {
   "cell_type": "markdown",
   "source": [
    "# Importar las bibliotecas necesarias"
   ],
   "metadata": {
    "collapsed": false,
    "id": "FpfeqVw3Zblw"
   }
  },
  {
   "cell_type": "code",
   "execution_count": 44,
   "outputs": [],
   "source": [
    "import os\n",
    "import csv\n",
    "import openai\n",
    "from dotenv import load_dotenv\n",
    "import random"
   ],
   "metadata": {
    "id": "6TziV0IdZblx"
   }
  },
  {
   "cell_type": "markdown",
   "source": [
    "# Generar las constantes con una variable de sistema"
   ],
   "metadata": {
    "collapsed": false,
    "id": "puWtg1rOZblx"
   }
  },
  {
   "cell_type": "code",
   "execution_count": null,
   "outputs": [],
   "source": [
    "load_dotenv()\n",
    "OPENAI_API_KEY = os.getenv('OPENAI_API_KEY')\n",
    "TWEETS_DIR = 'tweets'"
   ],
   "metadata": {
    "id": "tX46i_yDZblx"
   }
  },
  {
   "cell_type": "markdown",
   "source": [
    "# Definir una función que:\n",
    "- Configure la API de OpenAI\n",
    "- Cree la carpeta de destino si no existe\n",
    "- Verifique si el archivo CSV existe\n",
    "- Itere sobre el número de tweets a generar\n",
    "- Escriba el encabezado solo si el archivo no existe\n",
    "- Defina el prompt para la generación del tweet\n",
    "- Llame a la API de ChatGPT para generar el tweet\n",
    "- Extraiga el tweet generado de la respuesta de la API\n",
    "- Escribir el tweet en el archivo CSV"
   ],
   "metadata": {
    "collapsed": false,
    "id": "t798_9sDZblx"
   }
  },
  {
   "cell_type": "code",
   "execution_count": 81,
   "outputs": [],
   "source": [
    "def generar_tweets(usuario:str, num_tweets:int=10, max_tokens:int=50, aleatoriedad:float=1):\n",
    "    \"\"\"\n",
    "    Generador de tweets automático, para ser usados como data sintética en el estudio de emociones en una cuenta de twitter dada.\n",
    "    :param usuario: El usuario al que se le generarán los tweets.\n",
    "    :param num_tweets: La cantidad de tweets que se desea generar\n",
    "    :param max_tokens: La longitud deseada del tweet\n",
    "    :param aleatoriedad: Controla la aleatoriedad del tweet generado.\n",
    "    :return: CSV con los tweets generados.\n",
    "    \"\"\"\n",
    "    openai.api_key = OPENAI_API_KEY\n",
    "\n",
    "    archivo_csv = os.path.join(TWEETS_DIR, f\"{usuario}_tweets.csv\")\n",
    "\n",
    "    archivo_existente = os.path.exists(archivo_csv)\n",
    "\n",
    "    idiomas = ['Alemán', 'Español', 'Francés', 'Inglés', 'Italiano']\n",
    "    temas = [\"Deportes\", \"Entretenimiento\", \"Política\", \"Tecnología\", \"Moda y belleza\", \"Viajes\", \"Negocios y finanzas\", \"Redes sociales e internet\", \"Comida y restaurantes\", \"Música\", \"Arte y cultura\", \"Ciencia y naturaleza\", \"Educación\", \"Videojuegos\", \"Humor y memes\", \"Tecnología e innovación\", \"Hogar y diseño de interiores\", \"Relaciones y citas\", \"Espiritualidad y religión\", \"Mascotas y animales\"]\n",
    "    emociones = [\"Felicidad\", \"Tristeza\", \"Emoción\", \"Miedo\", \"Amor\", \"Asombro\", \"Enojo\", \"Sorpresa\", \"Diversión\", \"Paz\"]\n",
    "\n",
    "    idioma = random.choice(idiomas)\n",
    "    tema = random.choice(temas)\n",
    "    print(idioma, tema)\n",
    "\n",
    "    with open(archivo_csv, 'a', newline='', encoding='utf-8') as archivo:\n",
    "        writer = csv.writer(archivo)\n",
    "\n",
    "        if not archivo_existente:\n",
    "            writer.writerow(['user', 'tweet'])\n",
    "\n",
    "        for i in range(num_tweets):\n",
    "            emocion = random.choice(emociones)\n",
    "            prompt = f\"Generar un tweet corto #{i+1} sobre {tema} con sentimiento de {emocion} en una escala de intensidad de 8/10  publicado por @{usuario}: en {idioma} con un nivel nativo. sin incluir el nombre del usuario, ni emojis, asegúrate que esté en el idioma indicado, que las emociones tengan la intensidad solicitada y que los sentimientos tengan la intensidad solicitada antes de darme la respuesta\"\n",
    "\n",
    "            response = openai.Completion.create(\n",
    "                engine='text-davinci-003',\n",
    "                prompt=prompt,\n",
    "                max_tokens=max_tokens,\n",
    "                temperature=aleatoriedad,\n",
    "                n=1,\n",
    "                stop=None,\n",
    "            )\n",
    "\n",
    "            tweet = response.choices[0].text.strip()\n",
    "\n",
    "            writer.writerow([usuario, tweet])\n",
    "\n",
    "            print(f\"Se ha guardado el tweet #{i+1} en el archivo: {archivo_csv}\")"
   ],
   "metadata": {
    "id": "X0RXXW4_Zblx"
   }
  },
  {
   "cell_type": "code",
   "execution_count": 82,
   "outputs": [
    {
     "name": "stdout",
     "output_type": "stream",
     "text": [
      "Italiano Entretenimiento\n",
      "Se ha guardado el tweet #1 en el archivo: tweets\\daniela_tweets.csv\n",
      "Se ha guardado el tweet #2 en el archivo: tweets\\daniela_tweets.csv\n",
      "Se ha guardado el tweet #3 en el archivo: tweets\\daniela_tweets.csv\n",
      "Se ha guardado el tweet #4 en el archivo: tweets\\daniela_tweets.csv\n",
      "Se ha guardado el tweet #5 en el archivo: tweets\\daniela_tweets.csv\n",
      "Se ha guardado el tweet #6 en el archivo: tweets\\daniela_tweets.csv\n",
      "Se ha guardado el tweet #7 en el archivo: tweets\\daniela_tweets.csv\n",
      "Se ha guardado el tweet #8 en el archivo: tweets\\daniela_tweets.csv\n",
      "Se ha guardado el tweet #9 en el archivo: tweets\\daniela_tweets.csv\n",
      "Se ha guardado el tweet #10 en el archivo: tweets\\daniela_tweets.csv\n",
      "Se ha guardado el tweet #11 en el archivo: tweets\\daniela_tweets.csv\n",
      "Se ha guardado el tweet #12 en el archivo: tweets\\daniela_tweets.csv\n",
      "Se ha guardado el tweet #13 en el archivo: tweets\\daniela_tweets.csv\n",
      "Se ha guardado el tweet #14 en el archivo: tweets\\daniela_tweets.csv\n",
      "Se ha guardado el tweet #15 en el archivo: tweets\\daniela_tweets.csv\n",
      "Se ha guardado el tweet #16 en el archivo: tweets\\daniela_tweets.csv\n",
      "Se ha guardado el tweet #17 en el archivo: tweets\\daniela_tweets.csv\n",
      "Se ha guardado el tweet #18 en el archivo: tweets\\daniela_tweets.csv\n",
      "Se ha guardado el tweet #19 en el archivo: tweets\\daniela_tweets.csv\n",
      "Se ha guardado el tweet #20 en el archivo: tweets\\daniela_tweets.csv\n",
      "Se ha guardado el tweet #21 en el archivo: tweets\\daniela_tweets.csv\n",
      "Se ha guardado el tweet #22 en el archivo: tweets\\daniela_tweets.csv\n"
     ]
    },
    {
     "ename": "RateLimitError",
     "evalue": "That model is currently overloaded with other requests. You can retry your request, or contact us through our help center at help.openai.com if the error persists. (Please include the request ID 0b136998c3169ae2025662d8414fdb03 in your message.)",
     "output_type": "error",
     "traceback": [
      "\u001B[1;31m---------------------------------------------------------------------------\u001B[0m",
      "\u001B[1;31mRateLimitError\u001B[0m                            Traceback (most recent call last)",
      "Cell \u001B[1;32mIn[82], line 1\u001B[0m\n\u001B[1;32m----> 1\u001B[0m \u001B[43mgenerar_tweets\u001B[49m\u001B[43m(\u001B[49m\u001B[38;5;124;43m'\u001B[39;49m\u001B[38;5;124;43mdaniela\u001B[39;49m\u001B[38;5;124;43m'\u001B[39;49m\u001B[43m,\u001B[49m\u001B[43m \u001B[49m\u001B[43mnum_tweets\u001B[49m\u001B[38;5;241;43m=\u001B[39;49m\u001B[38;5;241;43m25\u001B[39;49m\u001B[43m)\u001B[49m \u001B[38;5;66;03m# Frances\u001B[39;00m\n",
      "Cell \u001B[1;32mIn[81], line 34\u001B[0m, in \u001B[0;36mgenerar_tweets\u001B[1;34m(usuario, num_tweets, max_tokens, aleatoriedad)\u001B[0m\n\u001B[0;32m     31\u001B[0m emocion \u001B[38;5;241m=\u001B[39m random\u001B[38;5;241m.\u001B[39mchoice(emociones)\n\u001B[0;32m     32\u001B[0m prompt \u001B[38;5;241m=\u001B[39m \u001B[38;5;124mf\u001B[39m\u001B[38;5;124m\"\u001B[39m\u001B[38;5;124mGenerar un tweet corto #\u001B[39m\u001B[38;5;132;01m{\u001B[39;00mi\u001B[38;5;241m+\u001B[39m\u001B[38;5;241m1\u001B[39m\u001B[38;5;132;01m}\u001B[39;00m\u001B[38;5;124m sobre \u001B[39m\u001B[38;5;132;01m{\u001B[39;00mtema\u001B[38;5;132;01m}\u001B[39;00m\u001B[38;5;124m con sentimiento de \u001B[39m\u001B[38;5;132;01m{\u001B[39;00memocion\u001B[38;5;132;01m}\u001B[39;00m\u001B[38;5;124m en una escala de intensidad de 8/10  publicado por @\u001B[39m\u001B[38;5;132;01m{\u001B[39;00musuario\u001B[38;5;132;01m}\u001B[39;00m\u001B[38;5;124m: en \u001B[39m\u001B[38;5;132;01m{\u001B[39;00midioma\u001B[38;5;132;01m}\u001B[39;00m\u001B[38;5;124m con un nivel nativo. sin incluir el nombre del usuario, ni emojis, asegúrate que esté en el idioma indicado, que las emociones tengan la intensidad solicitada y que los sentimientos tengan la intensidad solicitada antes de darme la respuesta\u001B[39m\u001B[38;5;124m\"\u001B[39m\n\u001B[1;32m---> 34\u001B[0m response \u001B[38;5;241m=\u001B[39m \u001B[43mopenai\u001B[49m\u001B[38;5;241;43m.\u001B[39;49m\u001B[43mCompletion\u001B[49m\u001B[38;5;241;43m.\u001B[39;49m\u001B[43mcreate\u001B[49m\u001B[43m(\u001B[49m\n\u001B[0;32m     35\u001B[0m \u001B[43m    \u001B[49m\u001B[43mengine\u001B[49m\u001B[38;5;241;43m=\u001B[39;49m\u001B[38;5;124;43m'\u001B[39;49m\u001B[38;5;124;43mtext-davinci-003\u001B[39;49m\u001B[38;5;124;43m'\u001B[39;49m\u001B[43m,\u001B[49m\n\u001B[0;32m     36\u001B[0m \u001B[43m    \u001B[49m\u001B[43mprompt\u001B[49m\u001B[38;5;241;43m=\u001B[39;49m\u001B[43mprompt\u001B[49m\u001B[43m,\u001B[49m\n\u001B[0;32m     37\u001B[0m \u001B[43m    \u001B[49m\u001B[43mmax_tokens\u001B[49m\u001B[38;5;241;43m=\u001B[39;49m\u001B[43mmax_tokens\u001B[49m\u001B[43m,\u001B[49m\n\u001B[0;32m     38\u001B[0m \u001B[43m    \u001B[49m\u001B[43mtemperature\u001B[49m\u001B[38;5;241;43m=\u001B[39;49m\u001B[43maleatoriedad\u001B[49m\u001B[43m,\u001B[49m\n\u001B[0;32m     39\u001B[0m \u001B[43m    \u001B[49m\u001B[43mn\u001B[49m\u001B[38;5;241;43m=\u001B[39;49m\u001B[38;5;241;43m1\u001B[39;49m\u001B[43m,\u001B[49m\n\u001B[0;32m     40\u001B[0m \u001B[43m    \u001B[49m\u001B[43mstop\u001B[49m\u001B[38;5;241;43m=\u001B[39;49m\u001B[38;5;28;43;01mNone\u001B[39;49;00m\u001B[43m,\u001B[49m\n\u001B[0;32m     41\u001B[0m \u001B[43m\u001B[49m\u001B[43m)\u001B[49m\n\u001B[0;32m     43\u001B[0m tweet \u001B[38;5;241m=\u001B[39m response\u001B[38;5;241m.\u001B[39mchoices[\u001B[38;5;241m0\u001B[39m]\u001B[38;5;241m.\u001B[39mtext\u001B[38;5;241m.\u001B[39mstrip()\n\u001B[0;32m     45\u001B[0m writer\u001B[38;5;241m.\u001B[39mwriterow([usuario, tweet])\n",
      "File \u001B[1;32m~\\AppData\\Local\\Programs\\Python\\Python310\\lib\\site-packages\\openai\\api_resources\\completion.py:25\u001B[0m, in \u001B[0;36mCompletion.create\u001B[1;34m(cls, *args, **kwargs)\u001B[0m\n\u001B[0;32m     23\u001B[0m \u001B[38;5;28;01mwhile\u001B[39;00m \u001B[38;5;28;01mTrue\u001B[39;00m:\n\u001B[0;32m     24\u001B[0m     \u001B[38;5;28;01mtry\u001B[39;00m:\n\u001B[1;32m---> 25\u001B[0m         \u001B[38;5;28;01mreturn\u001B[39;00m \u001B[38;5;28msuper\u001B[39m()\u001B[38;5;241m.\u001B[39mcreate(\u001B[38;5;241m*\u001B[39margs, \u001B[38;5;241m*\u001B[39m\u001B[38;5;241m*\u001B[39mkwargs)\n\u001B[0;32m     26\u001B[0m     \u001B[38;5;28;01mexcept\u001B[39;00m TryAgain \u001B[38;5;28;01mas\u001B[39;00m e:\n\u001B[0;32m     27\u001B[0m         \u001B[38;5;28;01mif\u001B[39;00m timeout \u001B[38;5;129;01mis\u001B[39;00m \u001B[38;5;129;01mnot\u001B[39;00m \u001B[38;5;28;01mNone\u001B[39;00m \u001B[38;5;129;01mand\u001B[39;00m time\u001B[38;5;241m.\u001B[39mtime() \u001B[38;5;241m>\u001B[39m start \u001B[38;5;241m+\u001B[39m timeout:\n",
      "File \u001B[1;32m~\\AppData\\Local\\Programs\\Python\\Python310\\lib\\site-packages\\openai\\api_resources\\abstract\\engine_api_resource.py:153\u001B[0m, in \u001B[0;36mEngineAPIResource.create\u001B[1;34m(cls, api_key, api_base, api_type, request_id, api_version, organization, **params)\u001B[0m\n\u001B[0;32m    127\u001B[0m \u001B[38;5;129m@classmethod\u001B[39m\n\u001B[0;32m    128\u001B[0m \u001B[38;5;28;01mdef\u001B[39;00m \u001B[38;5;21mcreate\u001B[39m(\n\u001B[0;32m    129\u001B[0m     \u001B[38;5;28mcls\u001B[39m,\n\u001B[1;32m   (...)\u001B[0m\n\u001B[0;32m    136\u001B[0m     \u001B[38;5;241m*\u001B[39m\u001B[38;5;241m*\u001B[39mparams,\n\u001B[0;32m    137\u001B[0m ):\n\u001B[0;32m    138\u001B[0m     (\n\u001B[0;32m    139\u001B[0m         deployment_id,\n\u001B[0;32m    140\u001B[0m         engine,\n\u001B[1;32m   (...)\u001B[0m\n\u001B[0;32m    150\u001B[0m         api_key, api_base, api_type, api_version, organization, \u001B[38;5;241m*\u001B[39m\u001B[38;5;241m*\u001B[39mparams\n\u001B[0;32m    151\u001B[0m     )\n\u001B[1;32m--> 153\u001B[0m     response, _, api_key \u001B[38;5;241m=\u001B[39m \u001B[43mrequestor\u001B[49m\u001B[38;5;241;43m.\u001B[39;49m\u001B[43mrequest\u001B[49m\u001B[43m(\u001B[49m\n\u001B[0;32m    154\u001B[0m \u001B[43m        \u001B[49m\u001B[38;5;124;43m\"\u001B[39;49m\u001B[38;5;124;43mpost\u001B[39;49m\u001B[38;5;124;43m\"\u001B[39;49m\u001B[43m,\u001B[49m\n\u001B[0;32m    155\u001B[0m \u001B[43m        \u001B[49m\u001B[43murl\u001B[49m\u001B[43m,\u001B[49m\n\u001B[0;32m    156\u001B[0m \u001B[43m        \u001B[49m\u001B[43mparams\u001B[49m\u001B[38;5;241;43m=\u001B[39;49m\u001B[43mparams\u001B[49m\u001B[43m,\u001B[49m\n\u001B[0;32m    157\u001B[0m \u001B[43m        \u001B[49m\u001B[43mheaders\u001B[49m\u001B[38;5;241;43m=\u001B[39;49m\u001B[43mheaders\u001B[49m\u001B[43m,\u001B[49m\n\u001B[0;32m    158\u001B[0m \u001B[43m        \u001B[49m\u001B[43mstream\u001B[49m\u001B[38;5;241;43m=\u001B[39;49m\u001B[43mstream\u001B[49m\u001B[43m,\u001B[49m\n\u001B[0;32m    159\u001B[0m \u001B[43m        \u001B[49m\u001B[43mrequest_id\u001B[49m\u001B[38;5;241;43m=\u001B[39;49m\u001B[43mrequest_id\u001B[49m\u001B[43m,\u001B[49m\n\u001B[0;32m    160\u001B[0m \u001B[43m        \u001B[49m\u001B[43mrequest_timeout\u001B[49m\u001B[38;5;241;43m=\u001B[39;49m\u001B[43mrequest_timeout\u001B[49m\u001B[43m,\u001B[49m\n\u001B[0;32m    161\u001B[0m \u001B[43m    \u001B[49m\u001B[43m)\u001B[49m\n\u001B[0;32m    163\u001B[0m     \u001B[38;5;28;01mif\u001B[39;00m stream:\n\u001B[0;32m    164\u001B[0m         \u001B[38;5;66;03m# must be an iterator\u001B[39;00m\n\u001B[0;32m    165\u001B[0m         \u001B[38;5;28;01massert\u001B[39;00m \u001B[38;5;129;01mnot\u001B[39;00m \u001B[38;5;28misinstance\u001B[39m(response, OpenAIResponse)\n",
      "File \u001B[1;32m~\\AppData\\Local\\Programs\\Python\\Python310\\lib\\site-packages\\openai\\api_requestor.py:226\u001B[0m, in \u001B[0;36mAPIRequestor.request\u001B[1;34m(self, method, url, params, headers, files, stream, request_id, request_timeout)\u001B[0m\n\u001B[0;32m    205\u001B[0m \u001B[38;5;28;01mdef\u001B[39;00m \u001B[38;5;21mrequest\u001B[39m(\n\u001B[0;32m    206\u001B[0m     \u001B[38;5;28mself\u001B[39m,\n\u001B[0;32m    207\u001B[0m     method,\n\u001B[1;32m   (...)\u001B[0m\n\u001B[0;32m    214\u001B[0m     request_timeout: Optional[Union[\u001B[38;5;28mfloat\u001B[39m, Tuple[\u001B[38;5;28mfloat\u001B[39m, \u001B[38;5;28mfloat\u001B[39m]]] \u001B[38;5;241m=\u001B[39m \u001B[38;5;28;01mNone\u001B[39;00m,\n\u001B[0;32m    215\u001B[0m ) \u001B[38;5;241m-\u001B[39m\u001B[38;5;241m>\u001B[39m Tuple[Union[OpenAIResponse, Iterator[OpenAIResponse]], \u001B[38;5;28mbool\u001B[39m, \u001B[38;5;28mstr\u001B[39m]:\n\u001B[0;32m    216\u001B[0m     result \u001B[38;5;241m=\u001B[39m \u001B[38;5;28mself\u001B[39m\u001B[38;5;241m.\u001B[39mrequest_raw(\n\u001B[0;32m    217\u001B[0m         method\u001B[38;5;241m.\u001B[39mlower(),\n\u001B[0;32m    218\u001B[0m         url,\n\u001B[1;32m   (...)\u001B[0m\n\u001B[0;32m    224\u001B[0m         request_timeout\u001B[38;5;241m=\u001B[39mrequest_timeout,\n\u001B[0;32m    225\u001B[0m     )\n\u001B[1;32m--> 226\u001B[0m     resp, got_stream \u001B[38;5;241m=\u001B[39m \u001B[38;5;28;43mself\u001B[39;49m\u001B[38;5;241;43m.\u001B[39;49m\u001B[43m_interpret_response\u001B[49m\u001B[43m(\u001B[49m\u001B[43mresult\u001B[49m\u001B[43m,\u001B[49m\u001B[43m \u001B[49m\u001B[43mstream\u001B[49m\u001B[43m)\u001B[49m\n\u001B[0;32m    227\u001B[0m     \u001B[38;5;28;01mreturn\u001B[39;00m resp, got_stream, \u001B[38;5;28mself\u001B[39m\u001B[38;5;241m.\u001B[39mapi_key\n",
      "File \u001B[1;32m~\\AppData\\Local\\Programs\\Python\\Python310\\lib\\site-packages\\openai\\api_requestor.py:619\u001B[0m, in \u001B[0;36mAPIRequestor._interpret_response\u001B[1;34m(self, result, stream)\u001B[0m\n\u001B[0;32m    611\u001B[0m     \u001B[38;5;28;01mreturn\u001B[39;00m (\n\u001B[0;32m    612\u001B[0m         \u001B[38;5;28mself\u001B[39m\u001B[38;5;241m.\u001B[39m_interpret_response_line(\n\u001B[0;32m    613\u001B[0m             line, result\u001B[38;5;241m.\u001B[39mstatus_code, result\u001B[38;5;241m.\u001B[39mheaders, stream\u001B[38;5;241m=\u001B[39m\u001B[38;5;28;01mTrue\u001B[39;00m\n\u001B[0;32m    614\u001B[0m         )\n\u001B[0;32m    615\u001B[0m         \u001B[38;5;28;01mfor\u001B[39;00m line \u001B[38;5;129;01min\u001B[39;00m parse_stream(result\u001B[38;5;241m.\u001B[39miter_lines())\n\u001B[0;32m    616\u001B[0m     ), \u001B[38;5;28;01mTrue\u001B[39;00m\n\u001B[0;32m    617\u001B[0m \u001B[38;5;28;01melse\u001B[39;00m:\n\u001B[0;32m    618\u001B[0m     \u001B[38;5;28;01mreturn\u001B[39;00m (\n\u001B[1;32m--> 619\u001B[0m         \u001B[38;5;28;43mself\u001B[39;49m\u001B[38;5;241;43m.\u001B[39;49m\u001B[43m_interpret_response_line\u001B[49m\u001B[43m(\u001B[49m\n\u001B[0;32m    620\u001B[0m \u001B[43m            \u001B[49m\u001B[43mresult\u001B[49m\u001B[38;5;241;43m.\u001B[39;49m\u001B[43mcontent\u001B[49m\u001B[38;5;241;43m.\u001B[39;49m\u001B[43mdecode\u001B[49m\u001B[43m(\u001B[49m\u001B[38;5;124;43m\"\u001B[39;49m\u001B[38;5;124;43mutf-8\u001B[39;49m\u001B[38;5;124;43m\"\u001B[39;49m\u001B[43m)\u001B[49m\u001B[43m,\u001B[49m\n\u001B[0;32m    621\u001B[0m \u001B[43m            \u001B[49m\u001B[43mresult\u001B[49m\u001B[38;5;241;43m.\u001B[39;49m\u001B[43mstatus_code\u001B[49m\u001B[43m,\u001B[49m\n\u001B[0;32m    622\u001B[0m \u001B[43m            \u001B[49m\u001B[43mresult\u001B[49m\u001B[38;5;241;43m.\u001B[39;49m\u001B[43mheaders\u001B[49m\u001B[43m,\u001B[49m\n\u001B[0;32m    623\u001B[0m \u001B[43m            \u001B[49m\u001B[43mstream\u001B[49m\u001B[38;5;241;43m=\u001B[39;49m\u001B[38;5;28;43;01mFalse\u001B[39;49;00m\u001B[43m,\u001B[49m\n\u001B[0;32m    624\u001B[0m \u001B[43m        \u001B[49m\u001B[43m)\u001B[49m,\n\u001B[0;32m    625\u001B[0m         \u001B[38;5;28;01mFalse\u001B[39;00m,\n\u001B[0;32m    626\u001B[0m     )\n",
      "File \u001B[1;32m~\\AppData\\Local\\Programs\\Python\\Python310\\lib\\site-packages\\openai\\api_requestor.py:682\u001B[0m, in \u001B[0;36mAPIRequestor._interpret_response_line\u001B[1;34m(self, rbody, rcode, rheaders, stream)\u001B[0m\n\u001B[0;32m    680\u001B[0m stream_error \u001B[38;5;241m=\u001B[39m stream \u001B[38;5;129;01mand\u001B[39;00m \u001B[38;5;124m\"\u001B[39m\u001B[38;5;124merror\u001B[39m\u001B[38;5;124m\"\u001B[39m \u001B[38;5;129;01min\u001B[39;00m resp\u001B[38;5;241m.\u001B[39mdata\n\u001B[0;32m    681\u001B[0m \u001B[38;5;28;01mif\u001B[39;00m stream_error \u001B[38;5;129;01mor\u001B[39;00m \u001B[38;5;129;01mnot\u001B[39;00m \u001B[38;5;241m200\u001B[39m \u001B[38;5;241m<\u001B[39m\u001B[38;5;241m=\u001B[39m rcode \u001B[38;5;241m<\u001B[39m \u001B[38;5;241m300\u001B[39m:\n\u001B[1;32m--> 682\u001B[0m     \u001B[38;5;28;01mraise\u001B[39;00m \u001B[38;5;28mself\u001B[39m\u001B[38;5;241m.\u001B[39mhandle_error_response(\n\u001B[0;32m    683\u001B[0m         rbody, rcode, resp\u001B[38;5;241m.\u001B[39mdata, rheaders, stream_error\u001B[38;5;241m=\u001B[39mstream_error\n\u001B[0;32m    684\u001B[0m     )\n\u001B[0;32m    685\u001B[0m \u001B[38;5;28;01mreturn\u001B[39;00m resp\n",
      "\u001B[1;31mRateLimitError\u001B[0m: That model is currently overloaded with other requests. You can retry your request, or contact us through our help center at help.openai.com if the error persists. (Please include the request ID 0b136998c3169ae2025662d8414fdb03 in your message.)"
     ]
    }
   ],
   "source": [
    "generar_tweets('daniela', num_tweets=25) # italiano"
   ],
   "metadata": {
    "collapsed": false
   }
  },
  {
   "cell_type": "code",
   "execution_count": 69,
   "outputs": [
    {
     "name": "stdout",
     "output_type": "stream",
     "text": [
      "Se ha guardado el tweet #1 en el archivo: tweets\\Charlie_tweets.csv\n",
      "Se ha guardado el tweet #2 en el archivo: tweets\\Charlie_tweets.csv\n",
      "Se ha guardado el tweet #3 en el archivo: tweets\\Charlie_tweets.csv\n",
      "Se ha guardado el tweet #4 en el archivo: tweets\\Charlie_tweets.csv\n",
      "Se ha guardado el tweet #5 en el archivo: tweets\\Charlie_tweets.csv\n",
      "Se ha guardado el tweet #6 en el archivo: tweets\\Charlie_tweets.csv\n",
      "Se ha guardado el tweet #7 en el archivo: tweets\\Charlie_tweets.csv\n",
      "Se ha guardado el tweet #8 en el archivo: tweets\\Charlie_tweets.csv\n",
      "Se ha guardado el tweet #9 en el archivo: tweets\\Charlie_tweets.csv\n",
      "Se ha guardado el tweet #10 en el archivo: tweets\\Charlie_tweets.csv\n",
      "Se ha guardado el tweet #11 en el archivo: tweets\\Charlie_tweets.csv\n",
      "Se ha guardado el tweet #12 en el archivo: tweets\\Charlie_tweets.csv\n",
      "Se ha guardado el tweet #13 en el archivo: tweets\\Charlie_tweets.csv\n",
      "Se ha guardado el tweet #14 en el archivo: tweets\\Charlie_tweets.csv\n",
      "Se ha guardado el tweet #15 en el archivo: tweets\\Charlie_tweets.csv\n",
      "Se ha guardado el tweet #16 en el archivo: tweets\\Charlie_tweets.csv\n",
      "Se ha guardado el tweet #17 en el archivo: tweets\\Charlie_tweets.csv\n",
      "Se ha guardado el tweet #18 en el archivo: tweets\\Charlie_tweets.csv\n",
      "Se ha guardado el tweet #19 en el archivo: tweets\\Charlie_tweets.csv\n",
      "Se ha guardado el tweet #20 en el archivo: tweets\\Charlie_tweets.csv\n"
     ]
    }
   ],
   "source": [
    "generar_tweets('Charlie', num_tweets=20) # italiano"
   ],
   "metadata": {
    "collapsed": false
   }
  },
  {
   "cell_type": "code",
   "execution_count": 67,
   "outputs": [
    {
     "name": "stdout",
     "output_type": "stream",
     "text": [
      "Se ha guardado el tweet #1 en el archivo: tweets\\Diego_tweets.csv\n",
      "Se ha guardado el tweet #2 en el archivo: tweets\\Diego_tweets.csv\n",
      "Se ha guardado el tweet #3 en el archivo: tweets\\Diego_tweets.csv\n",
      "Se ha guardado el tweet #4 en el archivo: tweets\\Diego_tweets.csv\n",
      "Se ha guardado el tweet #5 en el archivo: tweets\\Diego_tweets.csv\n",
      "Se ha guardado el tweet #6 en el archivo: tweets\\Diego_tweets.csv\n",
      "Se ha guardado el tweet #7 en el archivo: tweets\\Diego_tweets.csv\n",
      "Se ha guardado el tweet #8 en el archivo: tweets\\Diego_tweets.csv\n",
      "Se ha guardado el tweet #9 en el archivo: tweets\\Diego_tweets.csv\n",
      "Se ha guardado el tweet #10 en el archivo: tweets\\Diego_tweets.csv\n",
      "Se ha guardado el tweet #11 en el archivo: tweets\\Diego_tweets.csv\n",
      "Se ha guardado el tweet #12 en el archivo: tweets\\Diego_tweets.csv\n",
      "Se ha guardado el tweet #13 en el archivo: tweets\\Diego_tweets.csv\n",
      "Se ha guardado el tweet #14 en el archivo: tweets\\Diego_tweets.csv\n",
      "Se ha guardado el tweet #15 en el archivo: tweets\\Diego_tweets.csv\n",
      "Se ha guardado el tweet #16 en el archivo: tweets\\Diego_tweets.csv\n",
      "Se ha guardado el tweet #17 en el archivo: tweets\\Diego_tweets.csv\n",
      "Se ha guardado el tweet #18 en el archivo: tweets\\Diego_tweets.csv\n",
      "Se ha guardado el tweet #19 en el archivo: tweets\\Diego_tweets.csv\n",
      "Se ha guardado el tweet #20 en el archivo: tweets\\Diego_tweets.csv\n"
     ]
    }
   ],
   "source": [
    "generar_tweets('Diego', num_tweets=20) # aleman"
   ],
   "metadata": {
    "collapsed": false
   }
  },
  {
   "cell_type": "code",
   "execution_count": 60,
   "outputs": [
    {
     "name": "stdout",
     "output_type": "stream",
     "text": [
      "Se ha guardado el tweet #1 en el archivo: tweets\\Ari_tweets.csv\n",
      "Se ha guardado el tweet #2 en el archivo: tweets\\Ari_tweets.csv\n",
      "Se ha guardado el tweet #3 en el archivo: tweets\\Ari_tweets.csv\n",
      "Se ha guardado el tweet #4 en el archivo: tweets\\Ari_tweets.csv\n",
      "Se ha guardado el tweet #5 en el archivo: tweets\\Ari_tweets.csv\n",
      "Se ha guardado el tweet #6 en el archivo: tweets\\Ari_tweets.csv\n",
      "Se ha guardado el tweet #7 en el archivo: tweets\\Ari_tweets.csv\n",
      "Se ha guardado el tweet #8 en el archivo: tweets\\Ari_tweets.csv\n",
      "Se ha guardado el tweet #9 en el archivo: tweets\\Ari_tweets.csv\n",
      "Se ha guardado el tweet #10 en el archivo: tweets\\Ari_tweets.csv\n",
      "Se ha guardado el tweet #11 en el archivo: tweets\\Ari_tweets.csv\n",
      "Se ha guardado el tweet #12 en el archivo: tweets\\Ari_tweets.csv\n",
      "Se ha guardado el tweet #13 en el archivo: tweets\\Ari_tweets.csv\n",
      "Se ha guardado el tweet #14 en el archivo: tweets\\Ari_tweets.csv\n",
      "Se ha guardado el tweet #15 en el archivo: tweets\\Ari_tweets.csv\n",
      "Se ha guardado el tweet #16 en el archivo: tweets\\Ari_tweets.csv\n",
      "Se ha guardado el tweet #17 en el archivo: tweets\\Ari_tweets.csv\n",
      "Se ha guardado el tweet #18 en el archivo: tweets\\Ari_tweets.csv\n",
      "Se ha guardado el tweet #19 en el archivo: tweets\\Ari_tweets.csv\n",
      "Se ha guardado el tweet #20 en el archivo: tweets\\Ari_tweets.csv\n"
     ]
    }
   ],
   "source": [
    "generar_tweets('Ari', num_tweets=20) # Español"
   ],
   "metadata": {
    "collapsed": false
   }
  },
  {
   "cell_type": "code",
   "execution_count": null,
   "outputs": [],
   "source": [
    "generar_tweets('Carlitos')"
   ],
   "metadata": {
    "collapsed": false
   }
  },
  {
   "cell_type": "code",
   "execution_count": 62,
   "outputs": [
    {
     "name": "stdout",
     "output_type": "stream",
     "text": [
      "Se ha guardado el tweet #1 en el archivo: tweets\\Mati_tweets.csv\n",
      "Se ha guardado el tweet #2 en el archivo: tweets\\Mati_tweets.csv\n",
      "Se ha guardado el tweet #3 en el archivo: tweets\\Mati_tweets.csv\n",
      "Se ha guardado el tweet #4 en el archivo: tweets\\Mati_tweets.csv\n",
      "Se ha guardado el tweet #5 en el archivo: tweets\\Mati_tweets.csv\n",
      "Se ha guardado el tweet #6 en el archivo: tweets\\Mati_tweets.csv\n",
      "Se ha guardado el tweet #7 en el archivo: tweets\\Mati_tweets.csv\n",
      "Se ha guardado el tweet #8 en el archivo: tweets\\Mati_tweets.csv\n",
      "Se ha guardado el tweet #9 en el archivo: tweets\\Mati_tweets.csv\n",
      "Se ha guardado el tweet #10 en el archivo: tweets\\Mati_tweets.csv\n",
      "Se ha guardado el tweet #11 en el archivo: tweets\\Mati_tweets.csv\n",
      "Se ha guardado el tweet #12 en el archivo: tweets\\Mati_tweets.csv\n",
      "Se ha guardado el tweet #13 en el archivo: tweets\\Mati_tweets.csv\n",
      "Se ha guardado el tweet #14 en el archivo: tweets\\Mati_tweets.csv\n",
      "Se ha guardado el tweet #15 en el archivo: tweets\\Mati_tweets.csv\n",
      "Se ha guardado el tweet #16 en el archivo: tweets\\Mati_tweets.csv\n",
      "Se ha guardado el tweet #17 en el archivo: tweets\\Mati_tweets.csv\n",
      "Se ha guardado el tweet #18 en el archivo: tweets\\Mati_tweets.csv\n",
      "Se ha guardado el tweet #19 en el archivo: tweets\\Mati_tweets.csv\n",
      "Se ha guardado el tweet #20 en el archivo: tweets\\Mati_tweets.csv\n"
     ]
    }
   ],
   "source": [
    "generar_tweets('Mati', num_tweets=20) # inglés\n"
   ],
   "metadata": {
    "id": "46KI6k9_Zbly",
    "outputId": "306e020c-7016-4b09-b127-75dafacbccd8"
   }
  },
  {
   "cell_type": "code",
   "execution_count": null,
   "outputs": [],
   "source": [
    "with open()"
   ],
   "metadata": {
    "collapsed": false
   }
  }
 ],
 "metadata": {
  "kernelspec": {
   "display_name": "Python 3",
   "language": "python",
   "name": "python3"
  },
  "language_info": {
   "codemirror_mode": {
    "name": "ipython",
    "version": 2
   },
   "file_extension": ".py",
   "mimetype": "text/x-python",
   "name": "python",
   "nbconvert_exporter": "python",
   "pygments_lexer": "ipython2",
   "version": "2.7.6"
  },
  "colab": {
   "provenance": []
  }
 },
 "nbformat": 4,
 "nbformat_minor": 0
}
