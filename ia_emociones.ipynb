{
 "cells": [
  {
   "cell_type": "code",
   "execution_count": 1,
   "metadata": {
    "collapsed": true
   },
   "outputs": [
    {
     "name": "stderr",
     "output_type": "stream",
     "text": [
      "c:\\Users\\matia\\Desktop\\TwitterAccountAnalyzer\\TwitterAccountAnalyzer\\env\\lib\\site-packages\\tqdm\\auto.py:21: TqdmWarning: IProgress not found. Please update jupyter and ipywidgets. See https://ipywidgets.readthedocs.io/en/stable/user_install.html\n",
      "  from .autonotebook import tqdm as notebook_tqdm\n"
     ]
    }
   ],
   "source": [
    "from transformers import pipeline, AutoModelForSequenceClassification, AutoTokenizer\n",
    "import pandas as pd"
   ]
  },
  {
   "cell_type": "code",
   "execution_count": 2,
   "metadata": {
    "collapsed": false
   },
   "outputs": [],
   "source": [
    "def agregar_columna_emociones(df, columna_texto):\n",
    "    emociones = [\"Alegría\", \"Tristeza\", \"Miedo\", \"Ira\", \"Sorpresa\", \"Amor\", \"Asco\", \"Vergüenza\", \"Envidia\", \"Calma\"]  # Agrega más emociones según tus necesidades\n",
    "\n",
    "    modelo_clasificador = \"sentence-transformers/ce-ms-marco-TinyBERT-L-4\"\n",
    "    clasificador = pipeline(\"text-classification\", model=modelo_clasificador)\n",
    "\n",
    "    tokenizer = AutoTokenizer.from_pretrained(modelo_clasificador)\n",
    "\n",
    "    emociones_detectadas = []\n",
    "    for texto in df[columna_texto]:\n",
    "        inputs = tokenizer(texto, truncation=True, padding=True, max_length=512, return_tensors=\"pt\")\n",
    "        outputs = clasificador(**inputs)\n",
    "        etiqueta = outputs[0]['label']\n",
    "\n",
    "        # Mapear la etiqueta a una emoción específica\n",
    "        emocion = emociones[int(etiqueta)]\n",
    "        emociones_detectadas.append(emocion)\n",
    "\n",
    "    df['emocion_detectada'] = emociones_detectadas\n",
    "\n",
    "    return df"
   ]
  },
  {
   "cell_type": "code",
   "execution_count": 3,
   "metadata": {
    "collapsed": false
   },
   "outputs": [
    {
     "data": {
      "text/plain": [
       "<function __main__.agregar_columna_emociones(df, columna_texto)>"
      ]
     },
     "execution_count": 3,
     "metadata": {},
     "output_type": "execute_result"
    }
   ],
   "source": [
    "agregar_columna_emociones"
   ]
  },
  {
   "cell_type": "code",
   "execution_count": 4,
   "metadata": {},
   "outputs": [
    {
     "ename": "NameError",
     "evalue": "name 'df' is not defined",
     "output_type": "error",
     "traceback": [
      "\u001b[1;31m---------------------------------------------------------------------------\u001b[0m",
      "\u001b[1;31mNameError\u001b[0m                                 Traceback (most recent call last)",
      "Cell \u001b[1;32mIn[4], line 1\u001b[0m\n\u001b[1;32m----> 1\u001b[0m df\n",
      "\u001b[1;31mNameError\u001b[0m: name 'df' is not defined"
     ]
    }
   ],
   "source": [
    "df"
   ]
  }
 ],
 "metadata": {
  "kernelspec": {
   "display_name": "Python 3",
   "language": "python",
   "name": "python3"
  },
  "language_info": {
   "codemirror_mode": {
    "name": "ipython",
    "version": 3
   },
   "file_extension": ".py",
   "mimetype": "text/x-python",
   "name": "python",
   "nbconvert_exporter": "python",
   "pygments_lexer": "ipython3",
   "version": "3.10.8"
  }
 },
 "nbformat": 4,
 "nbformat_minor": 0
}
