{
 "cells": [
  {
   "cell_type": "code",
   "execution_count": null,
   "metadata": {
    "collapsed": true,
    "id": "XY4v6CpiO0Ta"
   },
   "outputs": [],
   "source": [
    "from transformers import pipeline\n",
    "import pandas as pd"
   ]
  },
  {
   "cell_type": "code",
   "execution_count": null,
   "outputs": [],
   "source": [
    "DATASET_PATH = 'tweets/sentiment_nuclear_power.csv'\n",
    "DATASET_PATH_MATI = 'tweets/Mati_tweets.csv'"
   ],
   "metadata": {
    "id": "wkDLItn2O0Te"
   }
  },
  {
   "cell_type": "code",
   "execution_count": null,
   "outputs": [],
   "source": [
    "dfar = pd.read_csv('tweets/AlfaRomeo_tweets.csv')\n",
    "dfa = pd.read_csv('tweets/Andrei_tweets.csv')\n",
    "dfc = pd.read_csv('tweets/carlos_hernandez_tweets.csv')\n",
    "dfch = pd.read_csv('tweets/Charlie_tweets.csv')\n",
    "dfd = pd.read_csv('tweets/Diego_tweets.csv')\n",
    "dfm = pd.read_csv('tweets/Mati_tweets.csv')\n",
    "dfr = pd.read_csv('tweets/Ramoncito_tweets.csv')"
   ],
   "metadata": {
    "id": "03-ws5cUO0Tf"
   }
  },
  {
   "cell_type": "code",
   "execution_count": null,
   "outputs": [
    {
     "data": {
      "text/plain": "                                            tweet_text  \\\n0    :Hello Japan is a nuclear power plant crisis. ...   \n1    . Renewable Energy Consumption Tops Nuclear fo...   \n2    . Will liberals now seek to eliminate dangerou...   \n3    (Aug 22,2011)Plant Status of Fukushima Daiichi...   \n4    [ebook] Nuclear Energy and the Environment: Ox...   \n..                                                 ...   \n185  RT @mention The First Nuclear Reactor Since Th...   \n186  RT @mention The government plans to rent all l...   \n187  RT @mention The Hindu : News / National : Nucl...   \n188  RT @mention THE NUCLEAR ENERGY OPTION. The fam...   \n189  RT @mention The US #nuclear industry is taking...   \n\n                                        sentiment  \\\n0                                        Negative   \n1    Neutral / author is just sharing information   \n2    Neutral / author is just sharing information   \n3    Neutral / author is just sharing information   \n4    Neutral / author is just sharing information   \n..                                            ...   \n185  Neutral / author is just sharing information   \n186  Neutral / author is just sharing information   \n187  Neutral / author is just sharing information   \n188  Neutral / author is just sharing information   \n189  Neutral / author is just sharing information   \n\n                          sentiment_confidence_summary  \n0    \"Neutral / author is just sharing information\"...  \n1    \"Neutral / author is just sharing information\"...  \n2    \"Neutral / author is just sharing information\"...  \n3    \"Neutral / author is just sharing information\"...  \n4    \"Neutral / author is just sharing information\"...  \n..                                                 ...  \n185  \"Neutral / author is just sharing information\"...  \n186  \"Neutral / author is just sharing information\"...  \n187  \"Neutral / author is just sharing information\"...  \n188  \"Neutral / author is just sharing information\"...  \n189  \"Neutral / author is just sharing information\"...  \n\n[190 rows x 3 columns]",
      "text/html": "<div>\n<style scoped>\n    .dataframe tbody tr th:only-of-type {\n        vertical-align: middle;\n    }\n\n    .dataframe tbody tr th {\n        vertical-align: top;\n    }\n\n    .dataframe thead th {\n        text-align: right;\n    }\n</style>\n<table border=\"1\" class=\"dataframe\">\n  <thead>\n    <tr style=\"text-align: right;\">\n      <th></th>\n      <th>tweet_text</th>\n      <th>sentiment</th>\n      <th>sentiment_confidence_summary</th>\n    </tr>\n  </thead>\n  <tbody>\n    <tr>\n      <th>0</th>\n      <td>:Hello Japan is a nuclear power plant crisis. ...</td>\n      <td>Negative</td>\n      <td>\"Neutral / author is just sharing information\"...</td>\n    </tr>\n    <tr>\n      <th>1</th>\n      <td>. Renewable Energy Consumption Tops Nuclear fo...</td>\n      <td>Neutral / author is just sharing information</td>\n      <td>\"Neutral / author is just sharing information\"...</td>\n    </tr>\n    <tr>\n      <th>2</th>\n      <td>. Will liberals now seek to eliminate dangerou...</td>\n      <td>Neutral / author is just sharing information</td>\n      <td>\"Neutral / author is just sharing information\"...</td>\n    </tr>\n    <tr>\n      <th>3</th>\n      <td>(Aug 22,2011)Plant Status of Fukushima Daiichi...</td>\n      <td>Neutral / author is just sharing information</td>\n      <td>\"Neutral / author is just sharing information\"...</td>\n    </tr>\n    <tr>\n      <th>4</th>\n      <td>[ebook] Nuclear Energy and the Environment: Ox...</td>\n      <td>Neutral / author is just sharing information</td>\n      <td>\"Neutral / author is just sharing information\"...</td>\n    </tr>\n    <tr>\n      <th>...</th>\n      <td>...</td>\n      <td>...</td>\n      <td>...</td>\n    </tr>\n    <tr>\n      <th>185</th>\n      <td>RT @mention The First Nuclear Reactor Since Th...</td>\n      <td>Neutral / author is just sharing information</td>\n      <td>\"Neutral / author is just sharing information\"...</td>\n    </tr>\n    <tr>\n      <th>186</th>\n      <td>RT @mention The government plans to rent all l...</td>\n      <td>Neutral / author is just sharing information</td>\n      <td>\"Neutral / author is just sharing information\"...</td>\n    </tr>\n    <tr>\n      <th>187</th>\n      <td>RT @mention The Hindu : News / National : Nucl...</td>\n      <td>Neutral / author is just sharing information</td>\n      <td>\"Neutral / author is just sharing information\"...</td>\n    </tr>\n    <tr>\n      <th>188</th>\n      <td>RT @mention THE NUCLEAR ENERGY OPTION. The fam...</td>\n      <td>Neutral / author is just sharing information</td>\n      <td>\"Neutral / author is just sharing information\"...</td>\n    </tr>\n    <tr>\n      <th>189</th>\n      <td>RT @mention The US #nuclear industry is taking...</td>\n      <td>Neutral / author is just sharing information</td>\n      <td>\"Neutral / author is just sharing information\"...</td>\n    </tr>\n  </tbody>\n</table>\n<p>190 rows × 3 columns</p>\n</div>"
     },
     "execution_count": 7,
     "metadata": {},
     "output_type": "execute_result"
    }
   ],
   "source": [
    "df = pd.read_csv(DATASET_PATH)"
   ],
   "metadata": {
    "id": "zcunN7eNO0Tf",
    "outputId": "c0521d2c-1be3-4af2-a09c-d1cc676366cb"
   }
  },
  {
   "cell_type": "code",
   "execution_count": null,
   "outputs": [],
   "source": [
    "df.drop(['sentiment', 'sentiment_confidence_summary'], axis=1, inplace=True)\n",
    "pattern = r\"\\([^)]*\\)|\\{[^}]*\\}\"\n",
    "pattern_corchetes = r\"\\[[^\\]]*\\]\"\n",
    "pattern_mayuscula = r\"^[^A-Z]+\"\n",
    "df['tweet_text'] = df['tweet_text'].str.replace(pattern, '', regex=True)\n",
    "df['tweet_text'] = df['tweet_text'].str.replace(pattern_corchetes, '', regex=True)\n",
    "df['tweet_text'] = df['tweet_text'].str.replace(pattern_mayuscula, '', regex=True)\n",
    "df.rename(columns={'tweet_text': 'tweet'}, inplace=True)"
   ],
   "metadata": {
    "id": "s1-8qFy7O0Tg"
   }
  },
  {
   "cell_type": "code",
   "execution_count": null,
   "outputs": [],
   "source": [
    "def obtener_sentimiento(etiqueta, score):\n",
    "    if score < 0.4:\n",
    "        return 'Negativo'\n",
    "    elif score < 0.6:\n",
    "        return 'Neutro'\n",
    "    else:\n",
    "        return 'Positivo'"
   ],
   "metadata": {
    "id": "vKDLbSBwO0Tg"
   }
  },
  {
   "cell_type": "code",
   "execution_count": null,
   "outputs": [],
   "source": [
    "def identificar_sentimiento(dataframe, idioma):\n",
    "    modelo = ''\n",
    "    if idioma == \"deutch\":\n",
    "        modelo = \"oliverguhr/german-sentiment-bert\"\n",
    "    elif idioma == \"español\":\n",
    "        modelo = \"dccuchile/bert-base-spanish-wwm-uncased\"\n",
    "    elif idioma == \"francés\":\n",
    "        modelo = \"nlptown/bert-base-multilingual-uncased-sentiment\"\n",
    "    elif idioma == \"english\":\n",
    "        modelo = \"bert-base-uncased\"\n",
    "    elif idioma == \"italiano\":\n",
    "        modelo = \"Musixmatch/umberto-commoncrawl-cased-v1\"\n",
    "\n",
    "    clasificador_sentimiento = pipeline(\"sentiment-analysis\", model=modelo)\n",
    "    sentimientos = []\n",
    "    for texto in dataframe['tweet']:\n",
    "        resultado = clasificador_sentimiento(texto)\n",
    "        etiqueta = resultado[0]['label']\n",
    "        score = resultado[0]['score']\n",
    "        sentimiento = obtener_sentimiento(etiqueta, score)\n",
    "        sentimientos.append(sentimiento)\n",
    "    dataframe['sentimiento'] = sentimientos\n",
    "    return dataframe"
   ],
   "metadata": {
    "id": "5FCiuOokO0Th"
   }
  },
  {
   "cell_type": "code",
   "execution_count": null,
   "outputs": [
    {
     "name": "stderr",
     "output_type": "stream",
     "text": [
      "Some weights of the model checkpoint at bert-base-uncased were not used when initializing BertForSequenceClassification: ['cls.seq_relationship.bias', 'cls.predictions.decoder.weight', 'cls.seq_relationship.weight', 'cls.predictions.bias', 'cls.predictions.transform.dense.bias', 'cls.predictions.transform.LayerNorm.weight', 'cls.predictions.transform.LayerNorm.bias', 'cls.predictions.transform.dense.weight']\n",
      "- This IS expected if you are initializing BertForSequenceClassification from the checkpoint of a model trained on another task or with another architecture (e.g. initializing a BertForSequenceClassification model from a BertForPreTraining model).\n",
      "- This IS NOT expected if you are initializing BertForSequenceClassification from the checkpoint of a model that you expect to be exactly identical (initializing a BertForSequenceClassification model from a BertForSequenceClassification model).\n",
      "Some weights of BertForSequenceClassification were not initialized from the model checkpoint at bert-base-uncased and are newly initialized: ['classifier.weight', 'classifier.bias']\n",
      "You should probably TRAIN this model on a down-stream task to be able to use it for predictions and inference.\n"
     ]
    },
    {
     "data": {
      "text/plain": "    user                                              tweet sentimiento\n0   Mati  Sad news for those seeking joy: the search for...    Positivo\n1   Mati  Devastating news of more job losses today, but...      Neutro\n2   Mati  Sad news today, but we must keep a positive at...      Neutro\n3   Mati  Sad news: another tragedy has hit the world to...      Neutro\n4   Mati  Sometimes it's hard to find inspiration when s...      Neutro\n5   Mati  Sometimes it can be hard to find motivation an...      Neutro\n6   Mati  The path to inspiration can be long and windin...    Positivo\n7   Mati  Sometimes it feels like no matter what you do,...    Positivo\n8   Mati  Sometimes it can be hard to find the motivatio...      Neutro\n9   Mati  Sometimes it feels like inspiration has abando...    Positivo\n10  Mati  Sometimes it feels like inspiration is so far ...    Positivo\n11  Mati  Sometimes it's hard to find inspiration when f...    Positivo\n12  Mati  Sometimes it's hard to find inspiration when y...      Neutro\n13  Mati  Sometimes it's hard to find inspiration when y...    Positivo\n14  Mati  Sometimes it feels like we're stuck in a rut, ...    Positivo\n15  Mati  Sometimes life can be overwhelming and it can ...      Neutro\n16  Mati  Sometimes it's hard to find inspiration when y...      Neutro\n17  Mati  Sometimes it can be difficult to find the moti...    Positivo\n18  Mati  Sometimes we all need a little inspiration to ...      Neutro",
      "text/html": "<div>\n<style scoped>\n    .dataframe tbody tr th:only-of-type {\n        vertical-align: middle;\n    }\n\n    .dataframe tbody tr th {\n        vertical-align: top;\n    }\n\n    .dataframe thead th {\n        text-align: right;\n    }\n</style>\n<table border=\"1\" class=\"dataframe\">\n  <thead>\n    <tr style=\"text-align: right;\">\n      <th></th>\n      <th>user</th>\n      <th>tweet</th>\n      <th>sentimiento</th>\n    </tr>\n  </thead>\n  <tbody>\n    <tr>\n      <th>0</th>\n      <td>Mati</td>\n      <td>Sad news for those seeking joy: the search for...</td>\n      <td>Positivo</td>\n    </tr>\n    <tr>\n      <th>1</th>\n      <td>Mati</td>\n      <td>Devastating news of more job losses today, but...</td>\n      <td>Neutro</td>\n    </tr>\n    <tr>\n      <th>2</th>\n      <td>Mati</td>\n      <td>Sad news today, but we must keep a positive at...</td>\n      <td>Neutro</td>\n    </tr>\n    <tr>\n      <th>3</th>\n      <td>Mati</td>\n      <td>Sad news: another tragedy has hit the world to...</td>\n      <td>Neutro</td>\n    </tr>\n    <tr>\n      <th>4</th>\n      <td>Mati</td>\n      <td>Sometimes it's hard to find inspiration when s...</td>\n      <td>Neutro</td>\n    </tr>\n    <tr>\n      <th>5</th>\n      <td>Mati</td>\n      <td>Sometimes it can be hard to find motivation an...</td>\n      <td>Neutro</td>\n    </tr>\n    <tr>\n      <th>6</th>\n      <td>Mati</td>\n      <td>The path to inspiration can be long and windin...</td>\n      <td>Positivo</td>\n    </tr>\n    <tr>\n      <th>7</th>\n      <td>Mati</td>\n      <td>Sometimes it feels like no matter what you do,...</td>\n      <td>Positivo</td>\n    </tr>\n    <tr>\n      <th>8</th>\n      <td>Mati</td>\n      <td>Sometimes it can be hard to find the motivatio...</td>\n      <td>Neutro</td>\n    </tr>\n    <tr>\n      <th>9</th>\n      <td>Mati</td>\n      <td>Sometimes it feels like inspiration has abando...</td>\n      <td>Positivo</td>\n    </tr>\n    <tr>\n      <th>10</th>\n      <td>Mati</td>\n      <td>Sometimes it feels like inspiration is so far ...</td>\n      <td>Positivo</td>\n    </tr>\n    <tr>\n      <th>11</th>\n      <td>Mati</td>\n      <td>Sometimes it's hard to find inspiration when f...</td>\n      <td>Positivo</td>\n    </tr>\n    <tr>\n      <th>12</th>\n      <td>Mati</td>\n      <td>Sometimes it's hard to find inspiration when y...</td>\n      <td>Neutro</td>\n    </tr>\n    <tr>\n      <th>13</th>\n      <td>Mati</td>\n      <td>Sometimes it's hard to find inspiration when y...</td>\n      <td>Positivo</td>\n    </tr>\n    <tr>\n      <th>14</th>\n      <td>Mati</td>\n      <td>Sometimes it feels like we're stuck in a rut, ...</td>\n      <td>Positivo</td>\n    </tr>\n    <tr>\n      <th>15</th>\n      <td>Mati</td>\n      <td>Sometimes life can be overwhelming and it can ...</td>\n      <td>Neutro</td>\n    </tr>\n    <tr>\n      <th>16</th>\n      <td>Mati</td>\n      <td>Sometimes it's hard to find inspiration when y...</td>\n      <td>Neutro</td>\n    </tr>\n    <tr>\n      <th>17</th>\n      <td>Mati</td>\n      <td>Sometimes it can be difficult to find the moti...</td>\n      <td>Positivo</td>\n    </tr>\n    <tr>\n      <th>18</th>\n      <td>Mati</td>\n      <td>Sometimes we all need a little inspiration to ...</td>\n      <td>Neutro</td>\n    </tr>\n  </tbody>\n</table>\n</div>"
     },
     "execution_count": 60,
     "metadata": {},
     "output_type": "execute_result"
    }
   ],
   "source": [
    "identificar_sentimiento(dfm, 'english')"
   ],
   "metadata": {
    "id": "1gTBxMRrO0Th",
    "outputId": "989a572b-3c04-4c61-a67d-1cac76eb9fc4"
   }
  },
  {
   "cell_type": "code",
   "execution_count": null,
   "outputs": [],
   "source": [
    "df"
   ],
   "metadata": {
    "id": "cHGJo7P2O0Ti"
   }
  },
  {
   "cell_type": "code",
   "execution_count": null,
   "outputs": [
    {
     "name": "stderr",
     "output_type": "stream",
     "text": [
      "Some weights of the model checkpoint at bert-base-uncased were not used when initializing BertForSequenceClassification: ['cls.seq_relationship.bias', 'cls.predictions.decoder.weight', 'cls.seq_relationship.weight', 'cls.predictions.bias', 'cls.predictions.transform.dense.bias', 'cls.predictions.transform.LayerNorm.weight', 'cls.predictions.transform.LayerNorm.bias', 'cls.predictions.transform.dense.weight']\n",
      "- This IS expected if you are initializing BertForSequenceClassification from the checkpoint of a model trained on another task or with another architecture (e.g. initializing a BertForSequenceClassification model from a BertForPreTraining model).\n",
      "- This IS NOT expected if you are initializing BertForSequenceClassification from the checkpoint of a model that you expect to be exactly identical (initializing a BertForSequenceClassification model from a BertForSequenceClassification model).\n",
      "Some weights of BertForSequenceClassification were not initialized from the model checkpoint at bert-base-uncased and are newly initialized: ['classifier.weight', 'classifier.bias']\n",
      "You should probably TRAIN this model on a down-stream task to be able to use it for predictions and inference.\n"
     ]
    },
    {
     "data": {
      "text/plain": "                                                 tweet  label sentimiento\n0        Hello Japan is a nuclear power plant crisis.      -1    Negativo\n1    Renewable Energy Consumption Tops Nuclear for ...      0    Negativo\n2    Will liberals now seek to eliminate dangerous ...      0    Negativo\n3    Plant Status of Fukushima Daiichi Nuclear Powe...      0    Negativo\n4    Nuclear Energy and the Environment: Oxf ord Un...      0    Negativo\n..                                                 ...    ...         ...\n185  RT @mention The First Nuclear Reactor Since Th...      0    Negativo\n186  RT @mention The government plans to rent all l...      0    Negativo\n187  RT @mention The Hindu : News / National : Nucl...      0    Negativo\n188  RT @mention THE NUCLEAR ENERGY OPTION. The fam...      0    Negativo\n189  RT @mention The US #nuclear industry is taking...      0    Negativo\n\n[190 rows x 3 columns]",
      "text/html": "<div>\n<style scoped>\n    .dataframe tbody tr th:only-of-type {\n        vertical-align: middle;\n    }\n\n    .dataframe tbody tr th {\n        vertical-align: top;\n    }\n\n    .dataframe thead th {\n        text-align: right;\n    }\n</style>\n<table border=\"1\" class=\"dataframe\">\n  <thead>\n    <tr style=\"text-align: right;\">\n      <th></th>\n      <th>tweet</th>\n      <th>label</th>\n      <th>sentimiento</th>\n    </tr>\n  </thead>\n  <tbody>\n    <tr>\n      <th>0</th>\n      <td>Hello Japan is a nuclear power plant crisis.</td>\n      <td>-1</td>\n      <td>Negativo</td>\n    </tr>\n    <tr>\n      <th>1</th>\n      <td>Renewable Energy Consumption Tops Nuclear for ...</td>\n      <td>0</td>\n      <td>Negativo</td>\n    </tr>\n    <tr>\n      <th>2</th>\n      <td>Will liberals now seek to eliminate dangerous ...</td>\n      <td>0</td>\n      <td>Negativo</td>\n    </tr>\n    <tr>\n      <th>3</th>\n      <td>Plant Status of Fukushima Daiichi Nuclear Powe...</td>\n      <td>0</td>\n      <td>Negativo</td>\n    </tr>\n    <tr>\n      <th>4</th>\n      <td>Nuclear Energy and the Environment: Oxf ord Un...</td>\n      <td>0</td>\n      <td>Negativo</td>\n    </tr>\n    <tr>\n      <th>...</th>\n      <td>...</td>\n      <td>...</td>\n      <td>...</td>\n    </tr>\n    <tr>\n      <th>185</th>\n      <td>RT @mention The First Nuclear Reactor Since Th...</td>\n      <td>0</td>\n      <td>Negativo</td>\n    </tr>\n    <tr>\n      <th>186</th>\n      <td>RT @mention The government plans to rent all l...</td>\n      <td>0</td>\n      <td>Negativo</td>\n    </tr>\n    <tr>\n      <th>187</th>\n      <td>RT @mention The Hindu : News / National : Nucl...</td>\n      <td>0</td>\n      <td>Negativo</td>\n    </tr>\n    <tr>\n      <th>188</th>\n      <td>RT @mention THE NUCLEAR ENERGY OPTION. The fam...</td>\n      <td>0</td>\n      <td>Negativo</td>\n    </tr>\n    <tr>\n      <th>189</th>\n      <td>RT @mention The US #nuclear industry is taking...</td>\n      <td>0</td>\n      <td>Negativo</td>\n    </tr>\n  </tbody>\n</table>\n<p>190 rows × 3 columns</p>\n</div>"
     },
     "execution_count": 53,
     "metadata": {},
     "output_type": "execute_result"
    }
   ],
   "source": [
    "identificar_sentimiento(df, 'english')"
   ],
   "metadata": {
    "id": "k9p1ybf-O0Ti",
    "outputId": "ed8a09b9-89b9-4fc1-ac14-973ddb7a30fc"
   }
  },
  {
   "cell_type": "code",
   "execution_count": null,
   "outputs": [
    {
     "data": {
      "text/plain": "         user                                              tweet\n0   AlfaRomeo  La vie est courte, profitez-en pour trouver de...\n1   AlfaRomeo  Même si les relations et les rencontres peuven...\n2   AlfaRomeo  Lorsqu'on parle de relations et de rencontres,...\n3   AlfaRomeo  La vie est courte, profitez de chaque moment a...\n4   AlfaRomeo  Laissons les relations et les rencontres s'épa...\n..        ...                                                ...\n95  AlfaRomeo  Être en paix avec soi-même est la base d'une r...\n96  AlfaRomeo  Les relations et les rencontres sont parfois d...\n97  AlfaRomeo  Que la paz soit au rendez-vous de vos relation...\n98  AlfaRomeo  Même si la passion est apréciée dans les relat...\n99  AlfaRomeo  A la recherche d'amour, de paix et d'équilibre...\n\n[100 rows x 2 columns]",
      "text/html": "<div>\n<style scoped>\n    .dataframe tbody tr th:only-of-type {\n        vertical-align: middle;\n    }\n\n    .dataframe tbody tr th {\n        vertical-align: top;\n    }\n\n    .dataframe thead th {\n        text-align: right;\n    }\n</style>\n<table border=\"1\" class=\"dataframe\">\n  <thead>\n    <tr style=\"text-align: right;\">\n      <th></th>\n      <th>user</th>\n      <th>tweet</th>\n    </tr>\n  </thead>\n  <tbody>\n    <tr>\n      <th>0</th>\n      <td>AlfaRomeo</td>\n      <td>La vie est courte, profitez-en pour trouver de...</td>\n    </tr>\n    <tr>\n      <th>1</th>\n      <td>AlfaRomeo</td>\n      <td>Même si les relations et les rencontres peuven...</td>\n    </tr>\n    <tr>\n      <th>2</th>\n      <td>AlfaRomeo</td>\n      <td>Lorsqu'on parle de relations et de rencontres,...</td>\n    </tr>\n    <tr>\n      <th>3</th>\n      <td>AlfaRomeo</td>\n      <td>La vie est courte, profitez de chaque moment a...</td>\n    </tr>\n    <tr>\n      <th>4</th>\n      <td>AlfaRomeo</td>\n      <td>Laissons les relations et les rencontres s'épa...</td>\n    </tr>\n    <tr>\n      <th>...</th>\n      <td>...</td>\n      <td>...</td>\n    </tr>\n    <tr>\n      <th>95</th>\n      <td>AlfaRomeo</td>\n      <td>Être en paix avec soi-même est la base d'une r...</td>\n    </tr>\n    <tr>\n      <th>96</th>\n      <td>AlfaRomeo</td>\n      <td>Les relations et les rencontres sont parfois d...</td>\n    </tr>\n    <tr>\n      <th>97</th>\n      <td>AlfaRomeo</td>\n      <td>Que la paz soit au rendez-vous de vos relation...</td>\n    </tr>\n    <tr>\n      <th>98</th>\n      <td>AlfaRomeo</td>\n      <td>Même si la passion est apréciée dans les relat...</td>\n    </tr>\n    <tr>\n      <th>99</th>\n      <td>AlfaRomeo</td>\n      <td>A la recherche d'amour, de paix et d'équilibre...</td>\n    </tr>\n  </tbody>\n</table>\n<p>100 rows × 2 columns</p>\n</div>"
     },
     "execution_count": 40,
     "metadata": {},
     "output_type": "execute_result"
    }
   ],
   "source": [
    "dfar"
   ],
   "metadata": {
    "id": "9cfXLnZsO0Tj",
    "outputId": "f305a19d-92b1-4863-d6c2-be8d2ced176e"
   }
  },
  {
   "cell_type": "code",
   "execution_count": null,
   "outputs": [
    {
     "data": {
      "text/plain": "         user                                              tweet sentimiento\n0   AlfaRomeo  La vie est courte, profitez-en pour trouver de...      Neutro\n1   AlfaRomeo  Même si les relations et les rencontres peuven...      Neutro\n2   AlfaRomeo  Lorsqu'on parle de relations et de rencontres,...    Negativo\n3   AlfaRomeo  La vie est courte, profitez de chaque moment a...      Neutro\n4   AlfaRomeo  Laissons les relations et les rencontres s'épa...      Neutro\n..        ...                                                ...         ...\n95  AlfaRomeo  Être en paix avec soi-même est la base d'une r...      Neutro\n96  AlfaRomeo  Les relations et les rencontres sont parfois d...      Neutro\n97  AlfaRomeo  Que la paz soit au rendez-vous de vos relation...      Neutro\n98  AlfaRomeo  Même si la passion est apréciée dans les relat...      Neutro\n99  AlfaRomeo  A la recherche d'amour, de paix et d'équilibre...    Positivo\n\n[100 rows x 3 columns]",
      "text/html": "<div>\n<style scoped>\n    .dataframe tbody tr th:only-of-type {\n        vertical-align: middle;\n    }\n\n    .dataframe tbody tr th {\n        vertical-align: top;\n    }\n\n    .dataframe thead th {\n        text-align: right;\n    }\n</style>\n<table border=\"1\" class=\"dataframe\">\n  <thead>\n    <tr style=\"text-align: right;\">\n      <th></th>\n      <th>user</th>\n      <th>tweet</th>\n      <th>sentimiento</th>\n    </tr>\n  </thead>\n  <tbody>\n    <tr>\n      <th>0</th>\n      <td>AlfaRomeo</td>\n      <td>La vie est courte, profitez-en pour trouver de...</td>\n      <td>Neutro</td>\n    </tr>\n    <tr>\n      <th>1</th>\n      <td>AlfaRomeo</td>\n      <td>Même si les relations et les rencontres peuven...</td>\n      <td>Neutro</td>\n    </tr>\n    <tr>\n      <th>2</th>\n      <td>AlfaRomeo</td>\n      <td>Lorsqu'on parle de relations et de rencontres,...</td>\n      <td>Negativo</td>\n    </tr>\n    <tr>\n      <th>3</th>\n      <td>AlfaRomeo</td>\n      <td>La vie est courte, profitez de chaque moment a...</td>\n      <td>Neutro</td>\n    </tr>\n    <tr>\n      <th>4</th>\n      <td>AlfaRomeo</td>\n      <td>Laissons les relations et les rencontres s'épa...</td>\n      <td>Neutro</td>\n    </tr>\n    <tr>\n      <th>...</th>\n      <td>...</td>\n      <td>...</td>\n      <td>...</td>\n    </tr>\n    <tr>\n      <th>95</th>\n      <td>AlfaRomeo</td>\n      <td>Être en paix avec soi-même est la base d'une r...</td>\n      <td>Neutro</td>\n    </tr>\n    <tr>\n      <th>96</th>\n      <td>AlfaRomeo</td>\n      <td>Les relations et les rencontres sont parfois d...</td>\n      <td>Neutro</td>\n    </tr>\n    <tr>\n      <th>97</th>\n      <td>AlfaRomeo</td>\n      <td>Que la paz soit au rendez-vous de vos relation...</td>\n      <td>Neutro</td>\n    </tr>\n    <tr>\n      <th>98</th>\n      <td>AlfaRomeo</td>\n      <td>Même si la passion est apréciée dans les relat...</td>\n      <td>Neutro</td>\n    </tr>\n    <tr>\n      <th>99</th>\n      <td>AlfaRomeo</td>\n      <td>A la recherche d'amour, de paix et d'équilibre...</td>\n      <td>Positivo</td>\n    </tr>\n  </tbody>\n</table>\n<p>100 rows × 3 columns</p>\n</div>"
     },
     "execution_count": 70,
     "metadata": {},
     "output_type": "execute_result"
    }
   ],
   "source": [
    "identificar_sentimiento(dfar, 'francés')"
   ],
   "metadata": {
    "id": "kjeF8HsQO0Tj",
    "outputId": "b270999f-efd4-4031-f2c9-9916539249c6"
   }
  },
  {
   "cell_type": "code",
   "execution_count": null,
   "outputs": [
    {
     "data": {
      "text/plain": "      user                                              tweet\n0   Andrei  Quand je regarde mon intérieur, je me sens tou...\n1   Andrei  Quoi de plus beau que de voir l'intérieur de v...\n2   Andrei  #Découvrez la magie de la conception intérieur...\n3   Andrei  ¡Quelle magnificence! J'adore le design intéri...\n4   Andrei  J'admire le design intérieur qui transforme n'...\n5   Andrei  Quelle surprise de découvrir des idées innovan...\n6   Andrei  Je suis émerveillé par les possibilités infini...\n7   Andrei  Quelle surprise de découvrir comment un intéri...\n8   Andrei  Découvrir des intérieurs magnifiques à la mais...\n9   Andrei  Quelle incroyable surprise que de découvrir un...\n10  Andrei  Je suis étonné de voir à quel point l'aménagem...\n11  Andrei  Quelle sensation de voir la transformation d'u...\n12  Andrei  Quand je vois l'intérieur de ma maison, je sui...\n13  Andrei  ¡J'ai été stupéfait en découvrant les nouvelle...\n14  Andrei  Quelle surprise de voir quelle différence un p...\n15  Andrei  Je suis émerveillé par le travail de décoratio...\n16  Andrei  Je suis émerveillé par l'aménagement intérieur...\n17  Andrei  Je suis émerveillé par les possibilités infini...\n18  Andrei  Quand je vois ce design d'intérieur, je suis t...\n19  Andrei  Que dire de plus que l'on peut admirer à trave...",
      "text/html": "<div>\n<style scoped>\n    .dataframe tbody tr th:only-of-type {\n        vertical-align: middle;\n    }\n\n    .dataframe tbody tr th {\n        vertical-align: top;\n    }\n\n    .dataframe thead th {\n        text-align: right;\n    }\n</style>\n<table border=\"1\" class=\"dataframe\">\n  <thead>\n    <tr style=\"text-align: right;\">\n      <th></th>\n      <th>user</th>\n      <th>tweet</th>\n    </tr>\n  </thead>\n  <tbody>\n    <tr>\n      <th>0</th>\n      <td>Andrei</td>\n      <td>Quand je regarde mon intérieur, je me sens tou...</td>\n    </tr>\n    <tr>\n      <th>1</th>\n      <td>Andrei</td>\n      <td>Quoi de plus beau que de voir l'intérieur de v...</td>\n    </tr>\n    <tr>\n      <th>2</th>\n      <td>Andrei</td>\n      <td>#Découvrez la magie de la conception intérieur...</td>\n    </tr>\n    <tr>\n      <th>3</th>\n      <td>Andrei</td>\n      <td>¡Quelle magnificence! J'adore le design intéri...</td>\n    </tr>\n    <tr>\n      <th>4</th>\n      <td>Andrei</td>\n      <td>J'admire le design intérieur qui transforme n'...</td>\n    </tr>\n    <tr>\n      <th>5</th>\n      <td>Andrei</td>\n      <td>Quelle surprise de découvrir des idées innovan...</td>\n    </tr>\n    <tr>\n      <th>6</th>\n      <td>Andrei</td>\n      <td>Je suis émerveillé par les possibilités infini...</td>\n    </tr>\n    <tr>\n      <th>7</th>\n      <td>Andrei</td>\n      <td>Quelle surprise de découvrir comment un intéri...</td>\n    </tr>\n    <tr>\n      <th>8</th>\n      <td>Andrei</td>\n      <td>Découvrir des intérieurs magnifiques à la mais...</td>\n    </tr>\n    <tr>\n      <th>9</th>\n      <td>Andrei</td>\n      <td>Quelle incroyable surprise que de découvrir un...</td>\n    </tr>\n    <tr>\n      <th>10</th>\n      <td>Andrei</td>\n      <td>Je suis étonné de voir à quel point l'aménagem...</td>\n    </tr>\n    <tr>\n      <th>11</th>\n      <td>Andrei</td>\n      <td>Quelle sensation de voir la transformation d'u...</td>\n    </tr>\n    <tr>\n      <th>12</th>\n      <td>Andrei</td>\n      <td>Quand je vois l'intérieur de ma maison, je sui...</td>\n    </tr>\n    <tr>\n      <th>13</th>\n      <td>Andrei</td>\n      <td>¡J'ai été stupéfait en découvrant les nouvelle...</td>\n    </tr>\n    <tr>\n      <th>14</th>\n      <td>Andrei</td>\n      <td>Quelle surprise de voir quelle différence un p...</td>\n    </tr>\n    <tr>\n      <th>15</th>\n      <td>Andrei</td>\n      <td>Je suis émerveillé par le travail de décoratio...</td>\n    </tr>\n    <tr>\n      <th>16</th>\n      <td>Andrei</td>\n      <td>Je suis émerveillé par l'aménagement intérieur...</td>\n    </tr>\n    <tr>\n      <th>17</th>\n      <td>Andrei</td>\n      <td>Je suis émerveillé par les possibilités infini...</td>\n    </tr>\n    <tr>\n      <th>18</th>\n      <td>Andrei</td>\n      <td>Quand je vois ce design d'intérieur, je suis t...</td>\n    </tr>\n    <tr>\n      <th>19</th>\n      <td>Andrei</td>\n      <td>Que dire de plus que l'on peut admirer à trave...</td>\n    </tr>\n  </tbody>\n</table>\n</div>"
     },
     "execution_count": 62,
     "metadata": {},
     "output_type": "execute_result"
    }
   ],
   "source": [
    "dfa"
   ],
   "metadata": {
    "id": "-vl-nIbeO0Tk",
    "outputId": "fbc2d578-6239-43a2-c744-78ec11108da5"
   }
  },
  {
   "cell_type": "code",
   "execution_count": null,
   "outputs": [
    {
     "data": {
      "text/plain": "                                                 tweet  label sentimiento\n0        Hello Japan is a nuclear power plant crisis.      -1      Neutro\n1    Renewable Energy Consumption Tops Nuclear for ...      0    Positivo\n2    Will liberals now seek to eliminate dangerous ...      0      Neutro\n3    Plant Status of Fukushima Daiichi Nuclear Powe...      0    Negativo\n4    Nuclear Energy and the Environment: Oxf ord Un...      0    Negativo\n..                                                 ...    ...         ...\n185  RT @mention The First Nuclear Reactor Since Th...      0    Negativo\n186  RT @mention The government plans to rent all l...      0      Neutro\n187  RT @mention The Hindu : News / National : Nucl...      0    Negativo\n188  RT @mention THE NUCLEAR ENERGY OPTION. The fam...      0    Negativo\n189  RT @mention The US #nuclear industry is taking...      0    Negativo\n\n[190 rows x 3 columns]",
      "text/html": "<div>\n<style scoped>\n    .dataframe tbody tr th:only-of-type {\n        vertical-align: middle;\n    }\n\n    .dataframe tbody tr th {\n        vertical-align: top;\n    }\n\n    .dataframe thead th {\n        text-align: right;\n    }\n</style>\n<table border=\"1\" class=\"dataframe\">\n  <thead>\n    <tr style=\"text-align: right;\">\n      <th></th>\n      <th>tweet</th>\n      <th>label</th>\n      <th>sentimiento</th>\n    </tr>\n  </thead>\n  <tbody>\n    <tr>\n      <th>0</th>\n      <td>Hello Japan is a nuclear power plant crisis.</td>\n      <td>-1</td>\n      <td>Neutro</td>\n    </tr>\n    <tr>\n      <th>1</th>\n      <td>Renewable Energy Consumption Tops Nuclear for ...</td>\n      <td>0</td>\n      <td>Positivo</td>\n    </tr>\n    <tr>\n      <th>2</th>\n      <td>Will liberals now seek to eliminate dangerous ...</td>\n      <td>0</td>\n      <td>Neutro</td>\n    </tr>\n    <tr>\n      <th>3</th>\n      <td>Plant Status of Fukushima Daiichi Nuclear Powe...</td>\n      <td>0</td>\n      <td>Negativo</td>\n    </tr>\n    <tr>\n      <th>4</th>\n      <td>Nuclear Energy and the Environment: Oxf ord Un...</td>\n      <td>0</td>\n      <td>Negativo</td>\n    </tr>\n    <tr>\n      <th>...</th>\n      <td>...</td>\n      <td>...</td>\n      <td>...</td>\n    </tr>\n    <tr>\n      <th>185</th>\n      <td>RT @mention The First Nuclear Reactor Since Th...</td>\n      <td>0</td>\n      <td>Negativo</td>\n    </tr>\n    <tr>\n      <th>186</th>\n      <td>RT @mention The government plans to rent all l...</td>\n      <td>0</td>\n      <td>Neutro</td>\n    </tr>\n    <tr>\n      <th>187</th>\n      <td>RT @mention The Hindu : News / National : Nucl...</td>\n      <td>0</td>\n      <td>Negativo</td>\n    </tr>\n    <tr>\n      <th>188</th>\n      <td>RT @mention THE NUCLEAR ENERGY OPTION. The fam...</td>\n      <td>0</td>\n      <td>Negativo</td>\n    </tr>\n    <tr>\n      <th>189</th>\n      <td>RT @mention The US #nuclear industry is taking...</td>\n      <td>0</td>\n      <td>Negativo</td>\n    </tr>\n  </tbody>\n</table>\n<p>190 rows × 3 columns</p>\n</div>"
     },
     "execution_count": 68,
     "metadata": {},
     "output_type": "execute_result"
    }
   ],
   "source": [
    "identificar_sentimiento(dfa, 'francés')"
   ],
   "metadata": {
    "id": "LII7WIfrO0Tk",
    "outputId": "8ccc9b48-76da-499a-f614-ec406c49a343"
   }
  },
  {
   "cell_type": "code",
   "execution_count": null,
   "outputs": [
    {
     "data": {
      "text/plain": "                user                                              tweet\n0   Carlos Hernandez  Qué emoción al ver cómo la tecnología 5G revol...\n1   Carlos Hernandez  Los algoritmos de recomendación de algunos ser...\n2   Carlos Hernandez  Actualizando mi PC. Nada más emocionante que d...\n3   Carlos Hernandez  La obsolescencia programada es una práctica qu...\n4   Carlos Hernandez  Aprendiendo más sobre inteligencia artificial....\n5   Carlos Hernandez  A veces es desalentador ver cuánta desinformac...\n6   Carlos Hernandez  La realidad virtual no deja de asombrarme. Las...\n7   Carlos Hernandez  Es triste ver cómo algunas compañías de tecnol...\n8   Carlos Hernandez  Probando el nuevo smartphone. A ver si cumple ...\n9   Carlos Hernandez  Agotado de constantes actualizaciones de softw...\n10  Carlos Hernandez  La tecnología LED está cambiando el juego en l...\n11  Carlos Hernandez  Pensando en la cantidad de cables que hay en m...\n12  Carlos Hernandez  Frustrado con la velocidad de internet. ¿Es de...\n13  Carlos Hernandez  Descubriendo las maravillas de la carga rápida...\n14  Carlos Hernandez  Realmente molesto con la falta de transparenci...\n15  Carlos Hernandez  Extrañando los días en que los teléfonos venía...\n16  Carlos Hernandez  Aprendiendo sobre tecnologías verdes. Es hora ...\n17  Carlos Hernandez  Desearía que los desarrolladores consideraran ...\n18  Carlos Hernandez  Lamentable que el ciberacoso sea aún un proble...\n19  Carlos Hernandez  Recordando los viejos tiempos con los disquete...\n20  Carlos Hernandez  Días en los que te das cuenta de que la inteli...\n21  Carlos Hernandez  Leyendo sobre blockchain. Realmente es una rev...\n22  Carlos Hernandez  Nada más frustrante que una pantalla táctil qu...",
      "text/html": "<div>\n<style scoped>\n    .dataframe tbody tr th:only-of-type {\n        vertical-align: middle;\n    }\n\n    .dataframe tbody tr th {\n        vertical-align: top;\n    }\n\n    .dataframe thead th {\n        text-align: right;\n    }\n</style>\n<table border=\"1\" class=\"dataframe\">\n  <thead>\n    <tr style=\"text-align: right;\">\n      <th></th>\n      <th>user</th>\n      <th>tweet</th>\n    </tr>\n  </thead>\n  <tbody>\n    <tr>\n      <th>0</th>\n      <td>Carlos Hernandez</td>\n      <td>Qué emoción al ver cómo la tecnología 5G revol...</td>\n    </tr>\n    <tr>\n      <th>1</th>\n      <td>Carlos Hernandez</td>\n      <td>Los algoritmos de recomendación de algunos ser...</td>\n    </tr>\n    <tr>\n      <th>2</th>\n      <td>Carlos Hernandez</td>\n      <td>Actualizando mi PC. Nada más emocionante que d...</td>\n    </tr>\n    <tr>\n      <th>3</th>\n      <td>Carlos Hernandez</td>\n      <td>La obsolescencia programada es una práctica qu...</td>\n    </tr>\n    <tr>\n      <th>4</th>\n      <td>Carlos Hernandez</td>\n      <td>Aprendiendo más sobre inteligencia artificial....</td>\n    </tr>\n    <tr>\n      <th>5</th>\n      <td>Carlos Hernandez</td>\n      <td>A veces es desalentador ver cuánta desinformac...</td>\n    </tr>\n    <tr>\n      <th>6</th>\n      <td>Carlos Hernandez</td>\n      <td>La realidad virtual no deja de asombrarme. Las...</td>\n    </tr>\n    <tr>\n      <th>7</th>\n      <td>Carlos Hernandez</td>\n      <td>Es triste ver cómo algunas compañías de tecnol...</td>\n    </tr>\n    <tr>\n      <th>8</th>\n      <td>Carlos Hernandez</td>\n      <td>Probando el nuevo smartphone. A ver si cumple ...</td>\n    </tr>\n    <tr>\n      <th>9</th>\n      <td>Carlos Hernandez</td>\n      <td>Agotado de constantes actualizaciones de softw...</td>\n    </tr>\n    <tr>\n      <th>10</th>\n      <td>Carlos Hernandez</td>\n      <td>La tecnología LED está cambiando el juego en l...</td>\n    </tr>\n    <tr>\n      <th>11</th>\n      <td>Carlos Hernandez</td>\n      <td>Pensando en la cantidad de cables que hay en m...</td>\n    </tr>\n    <tr>\n      <th>12</th>\n      <td>Carlos Hernandez</td>\n      <td>Frustrado con la velocidad de internet. ¿Es de...</td>\n    </tr>\n    <tr>\n      <th>13</th>\n      <td>Carlos Hernandez</td>\n      <td>Descubriendo las maravillas de la carga rápida...</td>\n    </tr>\n    <tr>\n      <th>14</th>\n      <td>Carlos Hernandez</td>\n      <td>Realmente molesto con la falta de transparenci...</td>\n    </tr>\n    <tr>\n      <th>15</th>\n      <td>Carlos Hernandez</td>\n      <td>Extrañando los días en que los teléfonos venía...</td>\n    </tr>\n    <tr>\n      <th>16</th>\n      <td>Carlos Hernandez</td>\n      <td>Aprendiendo sobre tecnologías verdes. Es hora ...</td>\n    </tr>\n    <tr>\n      <th>17</th>\n      <td>Carlos Hernandez</td>\n      <td>Desearía que los desarrolladores consideraran ...</td>\n    </tr>\n    <tr>\n      <th>18</th>\n      <td>Carlos Hernandez</td>\n      <td>Lamentable que el ciberacoso sea aún un proble...</td>\n    </tr>\n    <tr>\n      <th>19</th>\n      <td>Carlos Hernandez</td>\n      <td>Recordando los viejos tiempos con los disquete...</td>\n    </tr>\n    <tr>\n      <th>20</th>\n      <td>Carlos Hernandez</td>\n      <td>Días en los que te das cuenta de que la inteli...</td>\n    </tr>\n    <tr>\n      <th>21</th>\n      <td>Carlos Hernandez</td>\n      <td>Leyendo sobre blockchain. Realmente es una rev...</td>\n    </tr>\n    <tr>\n      <th>22</th>\n      <td>Carlos Hernandez</td>\n      <td>Nada más frustrante que una pantalla táctil qu...</td>\n    </tr>\n  </tbody>\n</table>\n</div>"
     },
     "execution_count": 63,
     "metadata": {},
     "output_type": "execute_result"
    }
   ],
   "source": [
    "dfc"
   ],
   "metadata": {
    "id": "1Dc6s7vHO0Tl",
    "outputId": "67585fe3-fb32-41a5-acde-a79602bb5d9c"
   }
  },
  {
   "cell_type": "code",
   "execution_count": null,
   "outputs": [
    {
     "name": "stderr",
     "output_type": "stream",
     "text": [
      "Downloading (…)lve/main/config.json: 100%|██████████| 650/650 [00:00<?, ?B/s] \n",
      "Downloading pytorch_model.bin: 100%|██████████| 440M/440M [00:39<00:00, 11.1MB/s] \n",
      "Some weights of the model checkpoint at dccuchile/bert-base-spanish-wwm-uncased were not used when initializing BertForSequenceClassification: ['cls.predictions.decoder.bias', 'cls.predictions.bias', 'cls.predictions.transform.dense.bias', 'cls.predictions.transform.LayerNorm.bias', 'cls.predictions.transform.LayerNorm.weight', 'cls.predictions.decoder.weight', 'cls.predictions.transform.dense.weight']\n",
      "- This IS expected if you are initializing BertForSequenceClassification from the checkpoint of a model trained on another task or with another architecture (e.g. initializing a BertForSequenceClassification model from a BertForPreTraining model).\n",
      "- This IS NOT expected if you are initializing BertForSequenceClassification from the checkpoint of a model that you expect to be exactly identical (initializing a BertForSequenceClassification model from a BertForSequenceClassification model).\n",
      "Some weights of BertForSequenceClassification were not initialized from the model checkpoint at dccuchile/bert-base-spanish-wwm-uncased and are newly initialized: ['bert.pooler.dense.bias', 'classifier.weight', 'classifier.bias', 'bert.pooler.dense.weight']\n",
      "You should probably TRAIN this model on a down-stream task to be able to use it for predictions and inference.\n",
      "Downloading (…)okenizer_config.json: 100%|██████████| 310/310 [00:00<00:00, 311kB/s]\n",
      "Downloading (…)solve/main/vocab.txt: 100%|██████████| 248k/248k [00:00<00:00, 850kB/s]\n",
      "Downloading (…)/main/tokenizer.json: 100%|██████████| 486k/486k [00:00<00:00, 14.4MB/s]\n",
      "Downloading (…)cial_tokens_map.json: 100%|██████████| 134/134 [00:00<00:00, 134kB/s]\n"
     ]
    },
    {
     "data": {
      "text/plain": "                user                                              tweet  \\\n0   Carlos Hernandez  Qué emoción al ver cómo la tecnología 5G revol...   \n1   Carlos Hernandez  Los algoritmos de recomendación de algunos ser...   \n2   Carlos Hernandez  Actualizando mi PC. Nada más emocionante que d...   \n3   Carlos Hernandez  La obsolescencia programada es una práctica qu...   \n4   Carlos Hernandez  Aprendiendo más sobre inteligencia artificial....   \n5   Carlos Hernandez  A veces es desalentador ver cuánta desinformac...   \n6   Carlos Hernandez  La realidad virtual no deja de asombrarme. Las...   \n7   Carlos Hernandez  Es triste ver cómo algunas compañías de tecnol...   \n8   Carlos Hernandez  Probando el nuevo smartphone. A ver si cumple ...   \n9   Carlos Hernandez  Agotado de constantes actualizaciones de softw...   \n10  Carlos Hernandez  La tecnología LED está cambiando el juego en l...   \n11  Carlos Hernandez  Pensando en la cantidad de cables que hay en m...   \n12  Carlos Hernandez  Frustrado con la velocidad de internet. ¿Es de...   \n13  Carlos Hernandez  Descubriendo las maravillas de la carga rápida...   \n14  Carlos Hernandez  Realmente molesto con la falta de transparenci...   \n15  Carlos Hernandez  Extrañando los días en que los teléfonos venía...   \n16  Carlos Hernandez  Aprendiendo sobre tecnologías verdes. Es hora ...   \n17  Carlos Hernandez  Desearía que los desarrolladores consideraran ...   \n18  Carlos Hernandez  Lamentable que el ciberacoso sea aún un proble...   \n19  Carlos Hernandez  Recordando los viejos tiempos con los disquete...   \n20  Carlos Hernandez  Días en los que te das cuenta de que la inteli...   \n21  Carlos Hernandez  Leyendo sobre blockchain. Realmente es una rev...   \n22  Carlos Hernandez  Nada más frustrante que una pantalla táctil qu...   \n\n   sentimiento  \n0       Neutro  \n1     Positivo  \n2       Neutro  \n3       Neutro  \n4       Neutro  \n5       Neutro  \n6       Neutro  \n7     Positivo  \n8       Neutro  \n9       Neutro  \n10      Neutro  \n11    Positivo  \n12      Neutro  \n13      Neutro  \n14    Positivo  \n15      Neutro  \n16      Neutro  \n17      Neutro  \n18      Neutro  \n19      Neutro  \n20    Positivo  \n21      Neutro  \n22      Neutro  ",
      "text/html": "<div>\n<style scoped>\n    .dataframe tbody tr th:only-of-type {\n        vertical-align: middle;\n    }\n\n    .dataframe tbody tr th {\n        vertical-align: top;\n    }\n\n    .dataframe thead th {\n        text-align: right;\n    }\n</style>\n<table border=\"1\" class=\"dataframe\">\n  <thead>\n    <tr style=\"text-align: right;\">\n      <th></th>\n      <th>user</th>\n      <th>tweet</th>\n      <th>sentimiento</th>\n    </tr>\n  </thead>\n  <tbody>\n    <tr>\n      <th>0</th>\n      <td>Carlos Hernandez</td>\n      <td>Qué emoción al ver cómo la tecnología 5G revol...</td>\n      <td>Neutro</td>\n    </tr>\n    <tr>\n      <th>1</th>\n      <td>Carlos Hernandez</td>\n      <td>Los algoritmos de recomendación de algunos ser...</td>\n      <td>Positivo</td>\n    </tr>\n    <tr>\n      <th>2</th>\n      <td>Carlos Hernandez</td>\n      <td>Actualizando mi PC. Nada más emocionante que d...</td>\n      <td>Neutro</td>\n    </tr>\n    <tr>\n      <th>3</th>\n      <td>Carlos Hernandez</td>\n      <td>La obsolescencia programada es una práctica qu...</td>\n      <td>Neutro</td>\n    </tr>\n    <tr>\n      <th>4</th>\n      <td>Carlos Hernandez</td>\n      <td>Aprendiendo más sobre inteligencia artificial....</td>\n      <td>Neutro</td>\n    </tr>\n    <tr>\n      <th>5</th>\n      <td>Carlos Hernandez</td>\n      <td>A veces es desalentador ver cuánta desinformac...</td>\n      <td>Neutro</td>\n    </tr>\n    <tr>\n      <th>6</th>\n      <td>Carlos Hernandez</td>\n      <td>La realidad virtual no deja de asombrarme. Las...</td>\n      <td>Neutro</td>\n    </tr>\n    <tr>\n      <th>7</th>\n      <td>Carlos Hernandez</td>\n      <td>Es triste ver cómo algunas compañías de tecnol...</td>\n      <td>Positivo</td>\n    </tr>\n    <tr>\n      <th>8</th>\n      <td>Carlos Hernandez</td>\n      <td>Probando el nuevo smartphone. A ver si cumple ...</td>\n      <td>Neutro</td>\n    </tr>\n    <tr>\n      <th>9</th>\n      <td>Carlos Hernandez</td>\n      <td>Agotado de constantes actualizaciones de softw...</td>\n      <td>Neutro</td>\n    </tr>\n    <tr>\n      <th>10</th>\n      <td>Carlos Hernandez</td>\n      <td>La tecnología LED está cambiando el juego en l...</td>\n      <td>Neutro</td>\n    </tr>\n    <tr>\n      <th>11</th>\n      <td>Carlos Hernandez</td>\n      <td>Pensando en la cantidad de cables que hay en m...</td>\n      <td>Positivo</td>\n    </tr>\n    <tr>\n      <th>12</th>\n      <td>Carlos Hernandez</td>\n      <td>Frustrado con la velocidad de internet. ¿Es de...</td>\n      <td>Neutro</td>\n    </tr>\n    <tr>\n      <th>13</th>\n      <td>Carlos Hernandez</td>\n      <td>Descubriendo las maravillas de la carga rápida...</td>\n      <td>Neutro</td>\n    </tr>\n    <tr>\n      <th>14</th>\n      <td>Carlos Hernandez</td>\n      <td>Realmente molesto con la falta de transparenci...</td>\n      <td>Positivo</td>\n    </tr>\n    <tr>\n      <th>15</th>\n      <td>Carlos Hernandez</td>\n      <td>Extrañando los días en que los teléfonos venía...</td>\n      <td>Neutro</td>\n    </tr>\n    <tr>\n      <th>16</th>\n      <td>Carlos Hernandez</td>\n      <td>Aprendiendo sobre tecnologías verdes. Es hora ...</td>\n      <td>Neutro</td>\n    </tr>\n    <tr>\n      <th>17</th>\n      <td>Carlos Hernandez</td>\n      <td>Desearía que los desarrolladores consideraran ...</td>\n      <td>Neutro</td>\n    </tr>\n    <tr>\n      <th>18</th>\n      <td>Carlos Hernandez</td>\n      <td>Lamentable que el ciberacoso sea aún un proble...</td>\n      <td>Neutro</td>\n    </tr>\n    <tr>\n      <th>19</th>\n      <td>Carlos Hernandez</td>\n      <td>Recordando los viejos tiempos con los disquete...</td>\n      <td>Neutro</td>\n    </tr>\n    <tr>\n      <th>20</th>\n      <td>Carlos Hernandez</td>\n      <td>Días en los que te das cuenta de que la inteli...</td>\n      <td>Positivo</td>\n    </tr>\n    <tr>\n      <th>21</th>\n      <td>Carlos Hernandez</td>\n      <td>Leyendo sobre blockchain. Realmente es una rev...</td>\n      <td>Neutro</td>\n    </tr>\n    <tr>\n      <th>22</th>\n      <td>Carlos Hernandez</td>\n      <td>Nada más frustrante que una pantalla táctil qu...</td>\n      <td>Neutro</td>\n    </tr>\n  </tbody>\n</table>\n</div>"
     },
     "execution_count": 78,
     "metadata": {},
     "output_type": "execute_result"
    }
   ],
   "source": [
    "identificar_sentimiento(dfc, 'español')"
   ],
   "metadata": {
    "id": "iD9YNUbKO0Tl",
    "outputId": "690cf34e-75de-4fda-c707-eb90ea6e1b0d"
   }
  },
  {
   "cell_type": "code",
   "execution_count": null,
   "outputs": [
    {
     "data": {
      "text/plain": "       user                                              tweet\n0   Charlie  La felicità può portare grandi benefici, ma se...\n1   Charlie  La felicità non è sempre la soluzione: affront...\n2   Charlie  Non tutti i giorni saranno felici, ma non dime...\n3   Charlie  \"La felicità è una fortuna, ma è anche una sce...\n4   Charlie  Non lasciarti abbattere dalle difficoltà della...\n5   Charlie  A volte, per raggiungere la felicità occorre s...\n6   Charlie  \"La felicità è una scelta, anche quando le cir...\n7   Charlie  Non è facile restare felici quando ci sono sen...\n8   Charlie  Non permettere che la tua felicità sia offusca...\n9   Charlie  La felicità è una scelta. Anche se la vita può...\n10  Charlie  Non lasciare che la tua tristezza cancelli la ...\n11  Charlie  \"La felicità è una scelta, anche quando la tri...\n12  Charlie  La felicità è una sensazione meravigliosa, ma ...\n13  Charlie  La tristezza può essere dura da affrontare, ma...\n14  Charlie  Non devi lasciare che la tua tristezza ti trat...\n15  Charlie  La felicità è momentanea, ma la tristezza può ...\n16  Charlie  La felicità arriva e va, ma ricordati che puoi...\n17  Charlie  Non lasciare che la tristezza abbia la meglio ...\n18  Charlie  La felicità può essere una trappola: vivere se...\n19  Charlie  Non è sempre facile sorridere di fronte alle a...",
      "text/html": "<div>\n<style scoped>\n    .dataframe tbody tr th:only-of-type {\n        vertical-align: middle;\n    }\n\n    .dataframe tbody tr th {\n        vertical-align: top;\n    }\n\n    .dataframe thead th {\n        text-align: right;\n    }\n</style>\n<table border=\"1\" class=\"dataframe\">\n  <thead>\n    <tr style=\"text-align: right;\">\n      <th></th>\n      <th>user</th>\n      <th>tweet</th>\n    </tr>\n  </thead>\n  <tbody>\n    <tr>\n      <th>0</th>\n      <td>Charlie</td>\n      <td>La felicità può portare grandi benefici, ma se...</td>\n    </tr>\n    <tr>\n      <th>1</th>\n      <td>Charlie</td>\n      <td>La felicità non è sempre la soluzione: affront...</td>\n    </tr>\n    <tr>\n      <th>2</th>\n      <td>Charlie</td>\n      <td>Non tutti i giorni saranno felici, ma non dime...</td>\n    </tr>\n    <tr>\n      <th>3</th>\n      <td>Charlie</td>\n      <td>\"La felicità è una fortuna, ma è anche una sce...</td>\n    </tr>\n    <tr>\n      <th>4</th>\n      <td>Charlie</td>\n      <td>Non lasciarti abbattere dalle difficoltà della...</td>\n    </tr>\n    <tr>\n      <th>5</th>\n      <td>Charlie</td>\n      <td>A volte, per raggiungere la felicità occorre s...</td>\n    </tr>\n    <tr>\n      <th>6</th>\n      <td>Charlie</td>\n      <td>\"La felicità è una scelta, anche quando le cir...</td>\n    </tr>\n    <tr>\n      <th>7</th>\n      <td>Charlie</td>\n      <td>Non è facile restare felici quando ci sono sen...</td>\n    </tr>\n    <tr>\n      <th>8</th>\n      <td>Charlie</td>\n      <td>Non permettere che la tua felicità sia offusca...</td>\n    </tr>\n    <tr>\n      <th>9</th>\n      <td>Charlie</td>\n      <td>La felicità è una scelta. Anche se la vita può...</td>\n    </tr>\n    <tr>\n      <th>10</th>\n      <td>Charlie</td>\n      <td>Non lasciare che la tua tristezza cancelli la ...</td>\n    </tr>\n    <tr>\n      <th>11</th>\n      <td>Charlie</td>\n      <td>\"La felicità è una scelta, anche quando la tri...</td>\n    </tr>\n    <tr>\n      <th>12</th>\n      <td>Charlie</td>\n      <td>La felicità è una sensazione meravigliosa, ma ...</td>\n    </tr>\n    <tr>\n      <th>13</th>\n      <td>Charlie</td>\n      <td>La tristezza può essere dura da affrontare, ma...</td>\n    </tr>\n    <tr>\n      <th>14</th>\n      <td>Charlie</td>\n      <td>Non devi lasciare che la tua tristezza ti trat...</td>\n    </tr>\n    <tr>\n      <th>15</th>\n      <td>Charlie</td>\n      <td>La felicità è momentanea, ma la tristezza può ...</td>\n    </tr>\n    <tr>\n      <th>16</th>\n      <td>Charlie</td>\n      <td>La felicità arriva e va, ma ricordati che puoi...</td>\n    </tr>\n    <tr>\n      <th>17</th>\n      <td>Charlie</td>\n      <td>Non lasciare che la tristezza abbia la meglio ...</td>\n    </tr>\n    <tr>\n      <th>18</th>\n      <td>Charlie</td>\n      <td>La felicità può essere una trappola: vivere se...</td>\n    </tr>\n    <tr>\n      <th>19</th>\n      <td>Charlie</td>\n      <td>Non è sempre facile sorridere di fronte alle a...</td>\n    </tr>\n  </tbody>\n</table>\n</div>"
     },
     "execution_count": 64,
     "metadata": {},
     "output_type": "execute_result"
    }
   ],
   "source": [
    "dfch"
   ],
   "metadata": {
    "id": "kIEQ80qwO0Tl",
    "outputId": "524e9d79-a2fb-4452-b197-dff5c9609856"
   }
  },
  {
   "cell_type": "code",
   "execution_count": null,
   "outputs": [
    {
     "name": "stderr",
     "output_type": "stream",
     "text": [
      "Downloading (…)lve/main/config.json: 100%|██████████| 508/508 [00:00<00:00, 508kB/s]\n",
      "Downloading pytorch_model.bin: 100%|██████████| 445M/445M [00:41<00:00, 10.8MB/s] \n",
      "Some weights of the model checkpoint at Musixmatch/umberto-commoncrawl-cased-v1 were not used when initializing CamembertForSequenceClassification: ['lm_head.layer_norm.bias', 'roberta.pooler.dense.bias', 'roberta.pooler.dense.weight', 'lm_head.dense.bias', 'lm_head.layer_norm.weight', 'lm_head.bias', 'lm_head.decoder.weight', 'lm_head.dense.weight']\n",
      "- This IS expected if you are initializing CamembertForSequenceClassification from the checkpoint of a model trained on another task or with another architecture (e.g. initializing a BertForSequenceClassification model from a BertForPreTraining model).\n",
      "- This IS NOT expected if you are initializing CamembertForSequenceClassification from the checkpoint of a model that you expect to be exactly identical (initializing a BertForSequenceClassification model from a BertForSequenceClassification model).\n",
      "Some weights of CamembertForSequenceClassification were not initialized from the model checkpoint at Musixmatch/umberto-commoncrawl-cased-v1 and are newly initialized: ['classifier.out_proj.weight', 'classifier.out_proj.bias', 'classifier.dense.weight', 'classifier.dense.bias']\n",
      "You should probably TRAIN this model on a down-stream task to be able to use it for predictions and inference.\n",
      "Downloading (…)tencepiece.bpe.model: 100%|██████████| 794k/794k [00:00<00:00, 1.26MB/s]\n",
      "Downloading (…)/main/tokenizer.json: 100%|██████████| 1.68M/1.68M [00:00<00:00, 2.23MB/s]\n"
     ]
    },
    {
     "data": {
      "text/plain": "       user                                              tweet sentimiento\n0   Charlie  La felicità può portare grandi benefici, ma se...      Neutro\n1   Charlie  La felicità non è sempre la soluzione: affront...      Neutro\n2   Charlie  Non tutti i giorni saranno felici, ma non dime...      Neutro\n3   Charlie  \"La felicità è una fortuna, ma è anche una sce...      Neutro\n4   Charlie  Non lasciarti abbattere dalle difficoltà della...      Neutro\n5   Charlie  A volte, per raggiungere la felicità occorre s...      Neutro\n6   Charlie  \"La felicità è una scelta, anche quando le cir...      Neutro\n7   Charlie  Non è facile restare felici quando ci sono sen...      Neutro\n8   Charlie  Non permettere che la tua felicità sia offusca...      Neutro\n9   Charlie  La felicità è una scelta. Anche se la vita può...      Neutro\n10  Charlie  Non lasciare che la tua tristezza cancelli la ...      Neutro\n11  Charlie  \"La felicità è una scelta, anche quando la tri...      Neutro\n12  Charlie  La felicità è una sensazione meravigliosa, ma ...      Neutro\n13  Charlie  La tristezza può essere dura da affrontare, ma...      Neutro\n14  Charlie  Non devi lasciare che la tua tristezza ti trat...      Neutro\n15  Charlie  La felicità è momentanea, ma la tristezza può ...      Neutro\n16  Charlie  La felicità arriva e va, ma ricordati che puoi...      Neutro\n17  Charlie  Non lasciare che la tristezza abbia la meglio ...      Neutro\n18  Charlie  La felicità può essere una trappola: vivere se...      Neutro\n19  Charlie  Non è sempre facile sorridere di fronte alle a...      Neutro",
      "text/html": "<div>\n<style scoped>\n    .dataframe tbody tr th:only-of-type {\n        vertical-align: middle;\n    }\n\n    .dataframe tbody tr th {\n        vertical-align: top;\n    }\n\n    .dataframe thead th {\n        text-align: right;\n    }\n</style>\n<table border=\"1\" class=\"dataframe\">\n  <thead>\n    <tr style=\"text-align: right;\">\n      <th></th>\n      <th>user</th>\n      <th>tweet</th>\n      <th>sentimiento</th>\n    </tr>\n  </thead>\n  <tbody>\n    <tr>\n      <th>0</th>\n      <td>Charlie</td>\n      <td>La felicità può portare grandi benefici, ma se...</td>\n      <td>Neutro</td>\n    </tr>\n    <tr>\n      <th>1</th>\n      <td>Charlie</td>\n      <td>La felicità non è sempre la soluzione: affront...</td>\n      <td>Neutro</td>\n    </tr>\n    <tr>\n      <th>2</th>\n      <td>Charlie</td>\n      <td>Non tutti i giorni saranno felici, ma non dime...</td>\n      <td>Neutro</td>\n    </tr>\n    <tr>\n      <th>3</th>\n      <td>Charlie</td>\n      <td>\"La felicità è una fortuna, ma è anche una sce...</td>\n      <td>Neutro</td>\n    </tr>\n    <tr>\n      <th>4</th>\n      <td>Charlie</td>\n      <td>Non lasciarti abbattere dalle difficoltà della...</td>\n      <td>Neutro</td>\n    </tr>\n    <tr>\n      <th>5</th>\n      <td>Charlie</td>\n      <td>A volte, per raggiungere la felicità occorre s...</td>\n      <td>Neutro</td>\n    </tr>\n    <tr>\n      <th>6</th>\n      <td>Charlie</td>\n      <td>\"La felicità è una scelta, anche quando le cir...</td>\n      <td>Neutro</td>\n    </tr>\n    <tr>\n      <th>7</th>\n      <td>Charlie</td>\n      <td>Non è facile restare felici quando ci sono sen...</td>\n      <td>Neutro</td>\n    </tr>\n    <tr>\n      <th>8</th>\n      <td>Charlie</td>\n      <td>Non permettere che la tua felicità sia offusca...</td>\n      <td>Neutro</td>\n    </tr>\n    <tr>\n      <th>9</th>\n      <td>Charlie</td>\n      <td>La felicità è una scelta. Anche se la vita può...</td>\n      <td>Neutro</td>\n    </tr>\n    <tr>\n      <th>10</th>\n      <td>Charlie</td>\n      <td>Non lasciare che la tua tristezza cancelli la ...</td>\n      <td>Neutro</td>\n    </tr>\n    <tr>\n      <th>11</th>\n      <td>Charlie</td>\n      <td>\"La felicità è una scelta, anche quando la tri...</td>\n      <td>Neutro</td>\n    </tr>\n    <tr>\n      <th>12</th>\n      <td>Charlie</td>\n      <td>La felicità è una sensazione meravigliosa, ma ...</td>\n      <td>Neutro</td>\n    </tr>\n    <tr>\n      <th>13</th>\n      <td>Charlie</td>\n      <td>La tristezza può essere dura da affrontare, ma...</td>\n      <td>Neutro</td>\n    </tr>\n    <tr>\n      <th>14</th>\n      <td>Charlie</td>\n      <td>Non devi lasciare che la tua tristezza ti trat...</td>\n      <td>Neutro</td>\n    </tr>\n    <tr>\n      <th>15</th>\n      <td>Charlie</td>\n      <td>La felicità è momentanea, ma la tristezza può ...</td>\n      <td>Neutro</td>\n    </tr>\n    <tr>\n      <th>16</th>\n      <td>Charlie</td>\n      <td>La felicità arriva e va, ma ricordati che puoi...</td>\n      <td>Neutro</td>\n    </tr>\n    <tr>\n      <th>17</th>\n      <td>Charlie</td>\n      <td>Non lasciare che la tristezza abbia la meglio ...</td>\n      <td>Neutro</td>\n    </tr>\n    <tr>\n      <th>18</th>\n      <td>Charlie</td>\n      <td>La felicità può essere una trappola: vivere se...</td>\n      <td>Neutro</td>\n    </tr>\n    <tr>\n      <th>19</th>\n      <td>Charlie</td>\n      <td>Non è sempre facile sorridere di fronte alle a...</td>\n      <td>Neutro</td>\n    </tr>\n  </tbody>\n</table>\n</div>"
     },
     "execution_count": 73,
     "metadata": {},
     "output_type": "execute_result"
    }
   ],
   "source": [
    "identificar_sentimiento(dfch, 'italiano')"
   ],
   "metadata": {
    "id": "K_2q7gOsO0Tm",
    "outputId": "2f8e1920-5ddb-4ed0-d19f-e1ecc4e07f1e"
   }
  },
  {
   "cell_type": "code",
   "execution_count": null,
   "outputs": [
    {
     "data": {
      "text/plain": "     user                                              tweet\n0   Diego  Auch in der Entwicklung können negative Emotio...\n1   Diego  Negativgefühle haben einen großen Einfluss auf...\n2   Diego  Es schmerzlich zu sehen, wie die negativen Gef...\n3   Diego  Auch wenn negative Gefühle überwunden werden m...\n4   Diego  Kein Entwicklungsprozess ist frei von negative...\n5   Diego  Es schmerzhaft, wenn man sich von negativen Em...\n6   Diego  Negativgefühle und Emotionen beim Entwicklungs...\n7   Diego  Es schmerzt mich zu sehen, wie Menschen sich d...\n8   Diego  Es traurig, aber wir müssen uns bewusst machen...\n9   Diego  Es schmerzt mich, wie manche Menschen negative...\n10  Diego  Es schmerzlich, dass Entwicklung nicht immer m...\n11  Diego  Es schwer, negative Gefühle zu überwinden, doc...\n12  Diego  Der Umgang mit negativen Gefühlen ist eine sch...\n13  Diego  Es schwer, sich beim Entwickeln von Software n...\n14  Diego  Es schmerzhaft, schlechte Gefühle zu haben, ab...\n15  Diego  Gefühle und negative Emotionen machen den #Ent...\n16  Diego  Es schmerzlich, über die destruktive Kraft der...\n17  Diego  Verzweifle nicht! #DesarrolloConEmoción bietet...\n18  Diego  \"Negative Gefühle und Emotionen können ein Hin...",
      "text/html": "<div>\n<style scoped>\n    .dataframe tbody tr th:only-of-type {\n        vertical-align: middle;\n    }\n\n    .dataframe tbody tr th {\n        vertical-align: top;\n    }\n\n    .dataframe thead th {\n        text-align: right;\n    }\n</style>\n<table border=\"1\" class=\"dataframe\">\n  <thead>\n    <tr style=\"text-align: right;\">\n      <th></th>\n      <th>user</th>\n      <th>tweet</th>\n    </tr>\n  </thead>\n  <tbody>\n    <tr>\n      <th>0</th>\n      <td>Diego</td>\n      <td>Auch in der Entwicklung können negative Emotio...</td>\n    </tr>\n    <tr>\n      <th>1</th>\n      <td>Diego</td>\n      <td>Negativgefühle haben einen großen Einfluss auf...</td>\n    </tr>\n    <tr>\n      <th>2</th>\n      <td>Diego</td>\n      <td>Es schmerzlich zu sehen, wie die negativen Gef...</td>\n    </tr>\n    <tr>\n      <th>3</th>\n      <td>Diego</td>\n      <td>Auch wenn negative Gefühle überwunden werden m...</td>\n    </tr>\n    <tr>\n      <th>4</th>\n      <td>Diego</td>\n      <td>Kein Entwicklungsprozess ist frei von negative...</td>\n    </tr>\n    <tr>\n      <th>5</th>\n      <td>Diego</td>\n      <td>Es schmerzhaft, wenn man sich von negativen Em...</td>\n    </tr>\n    <tr>\n      <th>6</th>\n      <td>Diego</td>\n      <td>Negativgefühle und Emotionen beim Entwicklungs...</td>\n    </tr>\n    <tr>\n      <th>7</th>\n      <td>Diego</td>\n      <td>Es schmerzt mich zu sehen, wie Menschen sich d...</td>\n    </tr>\n    <tr>\n      <th>8</th>\n      <td>Diego</td>\n      <td>Es traurig, aber wir müssen uns bewusst machen...</td>\n    </tr>\n    <tr>\n      <th>9</th>\n      <td>Diego</td>\n      <td>Es schmerzt mich, wie manche Menschen negative...</td>\n    </tr>\n    <tr>\n      <th>10</th>\n      <td>Diego</td>\n      <td>Es schmerzlich, dass Entwicklung nicht immer m...</td>\n    </tr>\n    <tr>\n      <th>11</th>\n      <td>Diego</td>\n      <td>Es schwer, negative Gefühle zu überwinden, doc...</td>\n    </tr>\n    <tr>\n      <th>12</th>\n      <td>Diego</td>\n      <td>Der Umgang mit negativen Gefühlen ist eine sch...</td>\n    </tr>\n    <tr>\n      <th>13</th>\n      <td>Diego</td>\n      <td>Es schwer, sich beim Entwickeln von Software n...</td>\n    </tr>\n    <tr>\n      <th>14</th>\n      <td>Diego</td>\n      <td>Es schmerzhaft, schlechte Gefühle zu haben, ab...</td>\n    </tr>\n    <tr>\n      <th>15</th>\n      <td>Diego</td>\n      <td>Gefühle und negative Emotionen machen den #Ent...</td>\n    </tr>\n    <tr>\n      <th>16</th>\n      <td>Diego</td>\n      <td>Es schmerzlich, über die destruktive Kraft der...</td>\n    </tr>\n    <tr>\n      <th>17</th>\n      <td>Diego</td>\n      <td>Verzweifle nicht! #DesarrolloConEmoción bietet...</td>\n    </tr>\n    <tr>\n      <th>18</th>\n      <td>Diego</td>\n      <td>\"Negative Gefühle und Emotionen können ein Hin...</td>\n    </tr>\n  </tbody>\n</table>\n</div>"
     },
     "execution_count": 65,
     "metadata": {},
     "output_type": "execute_result"
    }
   ],
   "source": [
    "dfd"
   ],
   "metadata": {
    "id": "gNyTu6u_O0Tm",
    "outputId": "bb3e02c8-1bdd-41f3-85ed-80e9e42c24f6"
   }
  },
  {
   "cell_type": "code",
   "execution_count": null,
   "outputs": [
    {
     "name": "stderr",
     "output_type": "stream",
     "text": [
      "Downloading (…)lve/main/config.json: 100%|██████████| 665/665 [00:00<00:00, 665kB/s]\n",
      "Downloading pytorch_model.bin: 100%|██████████| 436M/436M [00:39<00:00, 11.1MB/s] \n",
      "Downloading (…)okenizer_config.json: 100%|██████████| 161/161 [00:00<?, ?B/s] \n",
      "Downloading (…)solve/main/vocab.txt: 100%|██████████| 255k/255k [00:00<00:00, 588kB/s]\n",
      "Downloading (…)cial_tokens_map.json: 100%|██████████| 112/112 [00:00<00:00, 112kB/s]\n"
     ]
    },
    {
     "data": {
      "text/plain": "     user                                              tweet sentimiento\n0   Diego  Auch in der Entwicklung können negative Emotio...    Positivo\n1   Diego  Negativgefühle haben einen großen Einfluss auf...    Positivo\n2   Diego  Es schmerzlich zu sehen, wie die negativen Gef...    Positivo\n3   Diego  Auch wenn negative Gefühle überwunden werden m...    Positivo\n4   Diego  Kein Entwicklungsprozess ist frei von negative...    Positivo\n5   Diego  Es schmerzhaft, wenn man sich von negativen Em...    Positivo\n6   Diego  Negativgefühle und Emotionen beim Entwicklungs...    Positivo\n7   Diego  Es schmerzt mich zu sehen, wie Menschen sich d...    Positivo\n8   Diego  Es traurig, aber wir müssen uns bewusst machen...    Positivo\n9   Diego  Es schmerzt mich, wie manche Menschen negative...    Positivo\n10  Diego  Es schmerzlich, dass Entwicklung nicht immer m...    Positivo\n11  Diego  Es schwer, negative Gefühle zu überwinden, doc...    Positivo\n12  Diego  Der Umgang mit negativen Gefühlen ist eine sch...    Positivo\n13  Diego  Es schwer, sich beim Entwickeln von Software n...    Positivo\n14  Diego  Es schmerzhaft, schlechte Gefühle zu haben, ab...    Positivo\n15  Diego  Gefühle und negative Emotionen machen den #Ent...    Positivo\n16  Diego  Es schmerzlich, über die destruktive Kraft der...    Positivo\n17  Diego  Verzweifle nicht! #DesarrolloConEmoción bietet...    Positivo\n18  Diego  \"Negative Gefühle und Emotionen können ein Hin...    Positivo",
      "text/html": "<div>\n<style scoped>\n    .dataframe tbody tr th:only-of-type {\n        vertical-align: middle;\n    }\n\n    .dataframe tbody tr th {\n        vertical-align: top;\n    }\n\n    .dataframe thead th {\n        text-align: right;\n    }\n</style>\n<table border=\"1\" class=\"dataframe\">\n  <thead>\n    <tr style=\"text-align: right;\">\n      <th></th>\n      <th>user</th>\n      <th>tweet</th>\n      <th>sentimiento</th>\n    </tr>\n  </thead>\n  <tbody>\n    <tr>\n      <th>0</th>\n      <td>Diego</td>\n      <td>Auch in der Entwicklung können negative Emotio...</td>\n      <td>Positivo</td>\n    </tr>\n    <tr>\n      <th>1</th>\n      <td>Diego</td>\n      <td>Negativgefühle haben einen großen Einfluss auf...</td>\n      <td>Positivo</td>\n    </tr>\n    <tr>\n      <th>2</th>\n      <td>Diego</td>\n      <td>Es schmerzlich zu sehen, wie die negativen Gef...</td>\n      <td>Positivo</td>\n    </tr>\n    <tr>\n      <th>3</th>\n      <td>Diego</td>\n      <td>Auch wenn negative Gefühle überwunden werden m...</td>\n      <td>Positivo</td>\n    </tr>\n    <tr>\n      <th>4</th>\n      <td>Diego</td>\n      <td>Kein Entwicklungsprozess ist frei von negative...</td>\n      <td>Positivo</td>\n    </tr>\n    <tr>\n      <th>5</th>\n      <td>Diego</td>\n      <td>Es schmerzhaft, wenn man sich von negativen Em...</td>\n      <td>Positivo</td>\n    </tr>\n    <tr>\n      <th>6</th>\n      <td>Diego</td>\n      <td>Negativgefühle und Emotionen beim Entwicklungs...</td>\n      <td>Positivo</td>\n    </tr>\n    <tr>\n      <th>7</th>\n      <td>Diego</td>\n      <td>Es schmerzt mich zu sehen, wie Menschen sich d...</td>\n      <td>Positivo</td>\n    </tr>\n    <tr>\n      <th>8</th>\n      <td>Diego</td>\n      <td>Es traurig, aber wir müssen uns bewusst machen...</td>\n      <td>Positivo</td>\n    </tr>\n    <tr>\n      <th>9</th>\n      <td>Diego</td>\n      <td>Es schmerzt mich, wie manche Menschen negative...</td>\n      <td>Positivo</td>\n    </tr>\n    <tr>\n      <th>10</th>\n      <td>Diego</td>\n      <td>Es schmerzlich, dass Entwicklung nicht immer m...</td>\n      <td>Positivo</td>\n    </tr>\n    <tr>\n      <th>11</th>\n      <td>Diego</td>\n      <td>Es schwer, negative Gefühle zu überwinden, doc...</td>\n      <td>Positivo</td>\n    </tr>\n    <tr>\n      <th>12</th>\n      <td>Diego</td>\n      <td>Der Umgang mit negativen Gefühlen ist eine sch...</td>\n      <td>Positivo</td>\n    </tr>\n    <tr>\n      <th>13</th>\n      <td>Diego</td>\n      <td>Es schwer, sich beim Entwickeln von Software n...</td>\n      <td>Positivo</td>\n    </tr>\n    <tr>\n      <th>14</th>\n      <td>Diego</td>\n      <td>Es schmerzhaft, schlechte Gefühle zu haben, ab...</td>\n      <td>Positivo</td>\n    </tr>\n    <tr>\n      <th>15</th>\n      <td>Diego</td>\n      <td>Gefühle und negative Emotionen machen den #Ent...</td>\n      <td>Positivo</td>\n    </tr>\n    <tr>\n      <th>16</th>\n      <td>Diego</td>\n      <td>Es schmerzlich, über die destruktive Kraft der...</td>\n      <td>Positivo</td>\n    </tr>\n    <tr>\n      <th>17</th>\n      <td>Diego</td>\n      <td>Verzweifle nicht! #DesarrolloConEmoción bietet...</td>\n      <td>Positivo</td>\n    </tr>\n    <tr>\n      <th>18</th>\n      <td>Diego</td>\n      <td>\"Negative Gefühle und Emotionen können ein Hin...</td>\n      <td>Positivo</td>\n    </tr>\n  </tbody>\n</table>\n</div>"
     },
     "execution_count": 76,
     "metadata": {},
     "output_type": "execute_result"
    }
   ],
   "source": [
    "identificar_sentimiento(dfd, 'deutch')"
   ],
   "metadata": {
    "id": "yKppgEObO0Tn",
    "outputId": "bd3252e9-56ca-4832-ab9e-1549a6460a51"
   }
  },
  {
   "cell_type": "code",
   "execution_count": null,
   "outputs": [
    {
     "data": {
      "text/plain": "        user                                              tweet\n0  Ramoncito  ¡La decoración del hogar me enoja! ¿Por qué te...\n1  Ramoncito  ¡Otro diseño de interiores aburrido! Estoy tan...\n2  Ramoncito  ¡Otra vez no pude conseguir el diseño de inter...\n3  Ramoncito  ¡Estoy tan enojado con todos los problemas que...\n4  Ramoncito  ¡Cansado de ver el mismo diseño de interiores ...",
      "text/html": "<div>\n<style scoped>\n    .dataframe tbody tr th:only-of-type {\n        vertical-align: middle;\n    }\n\n    .dataframe tbody tr th {\n        vertical-align: top;\n    }\n\n    .dataframe thead th {\n        text-align: right;\n    }\n</style>\n<table border=\"1\" class=\"dataframe\">\n  <thead>\n    <tr style=\"text-align: right;\">\n      <th></th>\n      <th>user</th>\n      <th>tweet</th>\n    </tr>\n  </thead>\n  <tbody>\n    <tr>\n      <th>0</th>\n      <td>Ramoncito</td>\n      <td>¡La decoración del hogar me enoja! ¿Por qué te...</td>\n    </tr>\n    <tr>\n      <th>1</th>\n      <td>Ramoncito</td>\n      <td>¡Otro diseño de interiores aburrido! Estoy tan...</td>\n    </tr>\n    <tr>\n      <th>2</th>\n      <td>Ramoncito</td>\n      <td>¡Otra vez no pude conseguir el diseño de inter...</td>\n    </tr>\n    <tr>\n      <th>3</th>\n      <td>Ramoncito</td>\n      <td>¡Estoy tan enojado con todos los problemas que...</td>\n    </tr>\n    <tr>\n      <th>4</th>\n      <td>Ramoncito</td>\n      <td>¡Cansado de ver el mismo diseño de interiores ...</td>\n    </tr>\n  </tbody>\n</table>\n</div>"
     },
     "execution_count": 67,
     "metadata": {},
     "output_type": "execute_result"
    }
   ],
   "source": [
    "dfr"
   ],
   "metadata": {
    "id": "_K7A7cutO0Tn",
    "outputId": "40d9d0a6-90f6-4b5b-a14f-8f093074a224"
   }
  },
  {
   "cell_type": "code",
   "execution_count": null,
   "outputs": [
    {
     "name": "stderr",
     "output_type": "stream",
     "text": [
      "Some weights of the model checkpoint at dccuchile/bert-base-spanish-wwm-uncased were not used when initializing BertForSequenceClassification: ['cls.predictions.decoder.bias', 'cls.predictions.bias', 'cls.predictions.transform.dense.bias', 'cls.predictions.transform.LayerNorm.bias', 'cls.predictions.transform.LayerNorm.weight', 'cls.predictions.decoder.weight', 'cls.predictions.transform.dense.weight']\n",
      "- This IS expected if you are initializing BertForSequenceClassification from the checkpoint of a model trained on another task or with another architecture (e.g. initializing a BertForSequenceClassification model from a BertForPreTraining model).\n",
      "- This IS NOT expected if you are initializing BertForSequenceClassification from the checkpoint of a model that you expect to be exactly identical (initializing a BertForSequenceClassification model from a BertForSequenceClassification model).\n",
      "Some weights of BertForSequenceClassification were not initialized from the model checkpoint at dccuchile/bert-base-spanish-wwm-uncased and are newly initialized: ['bert.pooler.dense.bias', 'classifier.weight', 'classifier.bias', 'bert.pooler.dense.weight']\n",
      "You should probably TRAIN this model on a down-stream task to be able to use it for predictions and inference.\n"
     ]
    },
    {
     "data": {
      "text/plain": "        user                                              tweet sentimiento\n0  Ramoncito  ¡La decoración del hogar me enoja! ¿Por qué te...    Positivo\n1  Ramoncito  ¡Otro diseño de interiores aburrido! Estoy tan...      Neutro\n2  Ramoncito  ¡Otra vez no pude conseguir el diseño de inter...      Neutro\n3  Ramoncito  ¡Estoy tan enojado con todos los problemas que...      Neutro\n4  Ramoncito  ¡Cansado de ver el mismo diseño de interiores ...      Neutro",
      "text/html": "<div>\n<style scoped>\n    .dataframe tbody tr th:only-of-type {\n        vertical-align: middle;\n    }\n\n    .dataframe tbody tr th {\n        vertical-align: top;\n    }\n\n    .dataframe thead th {\n        text-align: right;\n    }\n</style>\n<table border=\"1\" class=\"dataframe\">\n  <thead>\n    <tr style=\"text-align: right;\">\n      <th></th>\n      <th>user</th>\n      <th>tweet</th>\n      <th>sentimiento</th>\n    </tr>\n  </thead>\n  <tbody>\n    <tr>\n      <th>0</th>\n      <td>Ramoncito</td>\n      <td>¡La decoración del hogar me enoja! ¿Por qué te...</td>\n      <td>Positivo</td>\n    </tr>\n    <tr>\n      <th>1</th>\n      <td>Ramoncito</td>\n      <td>¡Otro diseño de interiores aburrido! Estoy tan...</td>\n      <td>Neutro</td>\n    </tr>\n    <tr>\n      <th>2</th>\n      <td>Ramoncito</td>\n      <td>¡Otra vez no pude conseguir el diseño de inter...</td>\n      <td>Neutro</td>\n    </tr>\n    <tr>\n      <th>3</th>\n      <td>Ramoncito</td>\n      <td>¡Estoy tan enojado con todos los problemas que...</td>\n      <td>Neutro</td>\n    </tr>\n    <tr>\n      <th>4</th>\n      <td>Ramoncito</td>\n      <td>¡Cansado de ver el mismo diseño de interiores ...</td>\n      <td>Neutro</td>\n    </tr>\n  </tbody>\n</table>\n</div>"
     },
     "execution_count": 79,
     "metadata": {},
     "output_type": "execute_result"
    }
   ],
   "source": [
    "identificar_sentimiento(dfr, 'español')"
   ],
   "metadata": {
    "id": "jKHWF9x0O0Tn",
    "outputId": "bda591e9-db72-487a-fbf4-8fc5be06c838"
   }
  }
 ],
 "metadata": {
  "kernelspec": {
   "display_name": "Python 3",
   "language": "python",
   "name": "python3"
  },
  "language_info": {
   "codemirror_mode": {
    "name": "ipython",
    "version": 2
   },
   "file_extension": ".py",
   "mimetype": "text/x-python",
   "name": "python",
   "nbconvert_exporter": "python",
   "pygments_lexer": "ipython2",
   "version": "2.7.6"
  },
  "colab": {
   "provenance": []
  }
 },
 "nbformat": 4,
 "nbformat_minor": 0
}
